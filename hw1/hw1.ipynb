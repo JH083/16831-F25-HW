{
  "nbformat": 4,
  "nbformat_minor": 0,
  "metadata": {
    "colab": {
      "provenance": []
    },
    "kernelspec": {
      "name": "python3",
      "display_name": "Python 3"
    },
    "language_info": {
      "name": "python"
    }
  },
  "cells": [
    {
      "cell_type": "markdown",
      "source": [
        "## Setup"
      ],
      "metadata": {
        "id": "b1XpuZuPAUxS"
      }
    },
    {
      "cell_type": "code",
      "execution_count": 1,
      "metadata": {
        "colab": {
          "base_uri": "https://localhost:8080/"
        },
        "id": "XtpTkZZnAohS",
        "outputId": "2e6bee03-1a57-4750-9752-c85719eb7f31"
      },
      "outputs": [
        {
          "output_type": "stream",
          "name": "stdout",
          "text": [
            "Cloning into '16831-F25-HW'...\n",
            "remote: Enumerating objects: 331, done.\u001b[K\n",
            "remote: Counting objects: 100% (331/331), done.\u001b[K\n",
            "remote: Compressing objects: 100% (245/245), done.\u001b[K\n",
            "remote: Total 331 (delta 116), reused 266 (delta 65), pack-reused 0 (from 0)\u001b[K\n",
            "Receiving objects: 100% (331/331), 7.00 MiB | 10.50 MiB/s, done.\n",
            "Resolving deltas: 100% (116/116), done.\n",
            "/content/16831-F25-HW/hw1\n"
          ]
        }
      ],
      "source": [
        "!git clone https://github.com/JH083/16831-F25-HW.git\n",
        "%cd 16831-F25-HW/hw1"
      ]
    },
    {
      "cell_type": "code",
      "source": [
        "!pwd\n",
        "!ls rob831/scripts/run_hw1.py"
      ],
      "metadata": {
        "colab": {
          "base_uri": "https://localhost:8080/"
        },
        "id": "mxlVrhukDTyJ",
        "outputId": "b510715e-49df-4364-bd1d-9658ad8d840b"
      },
      "execution_count": 2,
      "outputs": [
        {
          "output_type": "stream",
          "name": "stdout",
          "text": [
            "/content/16831-F25-HW/hw1\n",
            "rob831/scripts/run_hw1.py\n"
          ]
        }
      ]
    },
    {
      "cell_type": "code",
      "source": [
        "!apt-get update -y\n",
        "!apt-get install -y patchelf libosmesa6 libosmesa6-dev libgl1-mesa-dev libgl1-mesa-glx libglu1-mesa libglew-dev libglfw3\n",
        "\n",
        "# MuJoCo 2.1.0 (the version mujoco-py expects)\n",
        "!mkdir -p /root/.mujoco && cd /root/.mujoco && \\\n",
        "  wget -q https://mujoco.org/download/mujoco210-linux-x86_64.tar.gz && \\\n",
        "  tar -xzf mujoco210-linux-x86_64.tar.gz && rm mujoco210-linux-x86_64.tar.gz\n",
        "\n",
        "# Environment for headless rendering + library lookup (persists for future shell cmds)\n",
        "%env MUJOCO_PY_MUJOCO_PATH=/root/.mujoco/mujoco210\n",
        "%env MUJOCO_GL=osmesa\n",
        "%env LD_LIBRARY_PATH=/root/.mujoco/mujoco210/bin:/usr/lib/x86_64-linux-gnu:$LD_LIBRARY_PATH\n",
        "%env LD_PRELOAD=/usr/lib/x86_64-linux-gnu/libOSMesa.so:/root/.mujoco/mujoco210/bin/libglewosmesa.so"
      ],
      "metadata": {
        "colab": {
          "base_uri": "https://localhost:8080/"
        },
        "id": "t0wHchwDMO2a",
        "outputId": "9d265bfb-729e-4000-aac6-49e86e9ca402"
      },
      "execution_count": 3,
      "outputs": [
        {
          "output_type": "stream",
          "name": "stdout",
          "text": [
            "Get:1 http://security.ubuntu.com/ubuntu jammy-security InRelease [129 kB]\n",
            "Hit:2 http://archive.ubuntu.com/ubuntu jammy InRelease\n",
            "Get:3 https://cloud.r-project.org/bin/linux/ubuntu jammy-cran40/ InRelease [3,632 B]\n",
            "Hit:4 https://cli.github.com/packages stable InRelease\n",
            "Get:5 https://r2u.stat.illinois.edu/ubuntu jammy InRelease [6,555 B]\n",
            "Get:6 https://developer.download.nvidia.com/compute/cuda/repos/ubuntu2204/x86_64  InRelease [1,581 B]\n",
            "Get:7 http://archive.ubuntu.com/ubuntu jammy-updates InRelease [128 kB]\n",
            "Get:8 https://ppa.launchpadcontent.net/deadsnakes/ppa/ubuntu jammy InRelease [18.1 kB]\n",
            "Get:9 http://archive.ubuntu.com/ubuntu jammy-backports InRelease [127 kB]\n",
            "Hit:10 https://ppa.launchpadcontent.net/graphics-drivers/ppa/ubuntu jammy InRelease\n",
            "Hit:11 https://ppa.launchpadcontent.net/ubuntugis/ppa/ubuntu jammy InRelease\n",
            "Get:12 http://security.ubuntu.com/ubuntu jammy-security/multiverse amd64 Packages [71.0 kB]\n",
            "Get:13 http://security.ubuntu.com/ubuntu jammy-security/universe amd64 Packages [1,274 kB]\n",
            "Get:14 http://security.ubuntu.com/ubuntu jammy-security/restricted amd64 Packages [5,496 kB]\n",
            "Get:15 http://security.ubuntu.com/ubuntu jammy-security/main amd64 Packages [3,327 kB]\n",
            "Get:16 https://r2u.stat.illinois.edu/ubuntu jammy/main amd64 Packages [2,802 kB]\n",
            "Get:17 https://developer.download.nvidia.com/compute/cuda/repos/ubuntu2204/x86_64  Packages [2,008 kB]\n",
            "Get:18 https://r2u.stat.illinois.edu/ubuntu jammy/main all Packages [9,290 kB]\n",
            "Get:19 http://archive.ubuntu.com/ubuntu jammy-updates/universe amd64 Packages [1,581 kB]\n",
            "Get:20 https://ppa.launchpadcontent.net/deadsnakes/ppa/ubuntu jammy/main amd64 Packages [33.2 kB]\n",
            "Get:21 http://archive.ubuntu.com/ubuntu jammy-updates/restricted amd64 Packages [5,691 kB]\n",
            "Get:22 http://archive.ubuntu.com/ubuntu jammy-updates/main amd64 Packages [3,642 kB]\n",
            "Get:23 http://archive.ubuntu.com/ubuntu jammy-updates/multiverse amd64 Packages [69.1 kB]\n",
            "Fetched 35.7 MB in 10s (3,585 kB/s)\n",
            "Reading package lists... Done\n",
            "W: Skipping acquire of configured file 'main/source/Sources' as repository 'https://r2u.stat.illinois.edu/ubuntu jammy InRelease' does not seem to provide it (sources.list entry misspelt?)\n",
            "Reading package lists... Done\n",
            "Building dependency tree... Done\n",
            "Reading state information... Done\n",
            "libgl1-mesa-glx is already the newest version (23.0.4-0ubuntu1~22.04.1).\n",
            "The following additional packages will be installed:\n",
            "  libegl-dev libgl-dev libgles-dev libgles1 libglu1-mesa-dev libglvnd-core-dev\n",
            "  libglvnd-dev libglx-dev libopengl-dev\n",
            "Suggested packages:\n",
            "  libvulkan1\n",
            "The following NEW packages will be installed:\n",
            "  libegl-dev libgl-dev libgl1-mesa-dev libgles-dev libgles1 libglew-dev\n",
            "  libglfw3 libglu1-mesa libglu1-mesa-dev libglvnd-core-dev libglvnd-dev\n",
            "  libglx-dev libopengl-dev libosmesa6 libosmesa6-dev patchelf\n",
            "0 upgraded, 16 newly installed, 0 to remove and 43 not upgraded.\n",
            "Need to get 4,163 kB of archives.\n",
            "After this operation, 19.8 MB of additional disk space will be used.\n",
            "Get:1 http://archive.ubuntu.com/ubuntu jammy/main amd64 libglx-dev amd64 1.4.0-1 [14.1 kB]\n",
            "Get:2 http://archive.ubuntu.com/ubuntu jammy/main amd64 libgl-dev amd64 1.4.0-1 [101 kB]\n",
            "Get:3 http://archive.ubuntu.com/ubuntu jammy/main amd64 libegl-dev amd64 1.4.0-1 [18.0 kB]\n",
            "Get:4 http://archive.ubuntu.com/ubuntu jammy/main amd64 libgles1 amd64 1.4.0-1 [11.5 kB]\n",
            "Get:5 http://archive.ubuntu.com/ubuntu jammy/main amd64 libgles-dev amd64 1.4.0-1 [49.4 kB]\n",
            "Get:6 http://archive.ubuntu.com/ubuntu jammy/main amd64 libglvnd-core-dev amd64 1.4.0-1 [12.7 kB]\n",
            "Get:7 http://archive.ubuntu.com/ubuntu jammy/main amd64 libopengl-dev amd64 1.4.0-1 [3,400 B]\n",
            "Get:8 http://archive.ubuntu.com/ubuntu jammy/main amd64 libglvnd-dev amd64 1.4.0-1 [3,162 B]\n",
            "Get:9 http://archive.ubuntu.com/ubuntu jammy-updates/main amd64 libgl1-mesa-dev amd64 23.2.1-1ubuntu3.1~22.04.3 [6,848 B]\n",
            "Get:10 http://archive.ubuntu.com/ubuntu jammy/main amd64 libglu1-mesa amd64 9.0.2-1 [145 kB]\n",
            "Get:11 http://archive.ubuntu.com/ubuntu jammy/main amd64 libglu1-mesa-dev amd64 9.0.2-1 [231 kB]\n",
            "Get:12 http://archive.ubuntu.com/ubuntu jammy/universe amd64 libglew-dev amd64 2.2.0-4 [287 kB]\n",
            "Get:13 http://archive.ubuntu.com/ubuntu jammy/universe amd64 libglfw3 amd64 3.3.6-1 [83.2 kB]\n",
            "Get:14 http://archive.ubuntu.com/ubuntu jammy/universe amd64 patchelf amd64 0.14.3-1 [72.1 kB]\n",
            "Get:15 http://archive.ubuntu.com/ubuntu jammy-updates/main amd64 libosmesa6 amd64 23.2.1-1ubuntu3.1~22.04.3 [3,115 kB]\n",
            "Get:16 http://archive.ubuntu.com/ubuntu jammy-updates/main amd64 libosmesa6-dev amd64 23.2.1-1ubuntu3.1~22.04.3 [8,984 B]\n",
            "Fetched 4,163 kB in 1s (4,061 kB/s)\n",
            "Selecting previously unselected package libglx-dev:amd64.\n",
            "(Reading database ... 126435 files and directories currently installed.)\n",
            "Preparing to unpack .../00-libglx-dev_1.4.0-1_amd64.deb ...\n",
            "Unpacking libglx-dev:amd64 (1.4.0-1) ...\n",
            "Selecting previously unselected package libgl-dev:amd64.\n",
            "Preparing to unpack .../01-libgl-dev_1.4.0-1_amd64.deb ...\n",
            "Unpacking libgl-dev:amd64 (1.4.0-1) ...\n",
            "Selecting previously unselected package libegl-dev:amd64.\n",
            "Preparing to unpack .../02-libegl-dev_1.4.0-1_amd64.deb ...\n",
            "Unpacking libegl-dev:amd64 (1.4.0-1) ...\n",
            "Selecting previously unselected package libgles1:amd64.\n",
            "Preparing to unpack .../03-libgles1_1.4.0-1_amd64.deb ...\n",
            "Unpacking libgles1:amd64 (1.4.0-1) ...\n",
            "Selecting previously unselected package libgles-dev:amd64.\n",
            "Preparing to unpack .../04-libgles-dev_1.4.0-1_amd64.deb ...\n",
            "Unpacking libgles-dev:amd64 (1.4.0-1) ...\n",
            "Selecting previously unselected package libglvnd-core-dev:amd64.\n",
            "Preparing to unpack .../05-libglvnd-core-dev_1.4.0-1_amd64.deb ...\n",
            "Unpacking libglvnd-core-dev:amd64 (1.4.0-1) ...\n",
            "Selecting previously unselected package libopengl-dev:amd64.\n",
            "Preparing to unpack .../06-libopengl-dev_1.4.0-1_amd64.deb ...\n",
            "Unpacking libopengl-dev:amd64 (1.4.0-1) ...\n",
            "Selecting previously unselected package libglvnd-dev:amd64.\n",
            "Preparing to unpack .../07-libglvnd-dev_1.4.0-1_amd64.deb ...\n",
            "Unpacking libglvnd-dev:amd64 (1.4.0-1) ...\n",
            "Selecting previously unselected package libgl1-mesa-dev:amd64.\n",
            "Preparing to unpack .../08-libgl1-mesa-dev_23.2.1-1ubuntu3.1~22.04.3_amd64.deb ...\n",
            "Unpacking libgl1-mesa-dev:amd64 (23.2.1-1ubuntu3.1~22.04.3) ...\n",
            "Selecting previously unselected package libglu1-mesa:amd64.\n",
            "Preparing to unpack .../09-libglu1-mesa_9.0.2-1_amd64.deb ...\n",
            "Unpacking libglu1-mesa:amd64 (9.0.2-1) ...\n",
            "Selecting previously unselected package libglu1-mesa-dev:amd64.\n",
            "Preparing to unpack .../10-libglu1-mesa-dev_9.0.2-1_amd64.deb ...\n",
            "Unpacking libglu1-mesa-dev:amd64 (9.0.2-1) ...\n",
            "Selecting previously unselected package libglew-dev:amd64.\n",
            "Preparing to unpack .../11-libglew-dev_2.2.0-4_amd64.deb ...\n",
            "Unpacking libglew-dev:amd64 (2.2.0-4) ...\n",
            "Selecting previously unselected package libglfw3:amd64.\n",
            "Preparing to unpack .../12-libglfw3_3.3.6-1_amd64.deb ...\n",
            "Unpacking libglfw3:amd64 (3.3.6-1) ...\n",
            "Selecting previously unselected package patchelf.\n",
            "Preparing to unpack .../13-patchelf_0.14.3-1_amd64.deb ...\n",
            "Unpacking patchelf (0.14.3-1) ...\n",
            "Selecting previously unselected package libosmesa6:amd64.\n",
            "Preparing to unpack .../14-libosmesa6_23.2.1-1ubuntu3.1~22.04.3_amd64.deb ...\n",
            "Unpacking libosmesa6:amd64 (23.2.1-1ubuntu3.1~22.04.3) ...\n",
            "Selecting previously unselected package libosmesa6-dev:amd64.\n",
            "Preparing to unpack .../15-libosmesa6-dev_23.2.1-1ubuntu3.1~22.04.3_amd64.deb ...\n",
            "Unpacking libosmesa6-dev:amd64 (23.2.1-1ubuntu3.1~22.04.3) ...\n",
            "Setting up libglfw3:amd64 (3.3.6-1) ...\n",
            "Setting up libglvnd-core-dev:amd64 (1.4.0-1) ...\n",
            "Setting up libgles1:amd64 (1.4.0-1) ...\n",
            "Setting up libglx-dev:amd64 (1.4.0-1) ...\n",
            "Setting up libglu1-mesa:amd64 (9.0.2-1) ...\n",
            "Setting up libopengl-dev:amd64 (1.4.0-1) ...\n",
            "Setting up patchelf (0.14.3-1) ...\n",
            "Setting up libgl-dev:amd64 (1.4.0-1) ...\n",
            "Setting up libosmesa6:amd64 (23.2.1-1ubuntu3.1~22.04.3) ...\n",
            "Setting up libegl-dev:amd64 (1.4.0-1) ...\n",
            "Setting up libglu1-mesa-dev:amd64 (9.0.2-1) ...\n",
            "Setting up libosmesa6-dev:amd64 (23.2.1-1ubuntu3.1~22.04.3) ...\n",
            "Setting up libgles-dev:amd64 (1.4.0-1) ...\n",
            "Setting up libglvnd-dev:amd64 (1.4.0-1) ...\n",
            "Setting up libglew-dev:amd64 (2.2.0-4) ...\n",
            "Setting up libgl1-mesa-dev:amd64 (23.2.1-1ubuntu3.1~22.04.3) ...\n",
            "Processing triggers for man-db (2.10.2-1) ...\n",
            "Processing triggers for libc-bin (2.35-0ubuntu3.8) ...\n",
            "/sbin/ldconfig.real: /usr/local/lib/libtcm_debug.so.1 is not a symbolic link\n",
            "\n",
            "/sbin/ldconfig.real: /usr/local/lib/libhwloc.so.15 is not a symbolic link\n",
            "\n",
            "/sbin/ldconfig.real: /usr/local/lib/libtbbmalloc.so.2 is not a symbolic link\n",
            "\n",
            "/sbin/ldconfig.real: /usr/local/lib/libumf.so.0 is not a symbolic link\n",
            "\n",
            "/sbin/ldconfig.real: /usr/local/lib/libtbbbind_2_0.so.3 is not a symbolic link\n",
            "\n",
            "/sbin/ldconfig.real: /usr/local/lib/libtbbbind.so.3 is not a symbolic link\n",
            "\n",
            "/sbin/ldconfig.real: /usr/local/lib/libur_adapter_level_zero.so.0 is not a symbolic link\n",
            "\n",
            "/sbin/ldconfig.real: /usr/local/lib/libtbb.so.12 is not a symbolic link\n",
            "\n",
            "/sbin/ldconfig.real: /usr/local/lib/libur_adapter_opencl.so.0 is not a symbolic link\n",
            "\n",
            "/sbin/ldconfig.real: /usr/local/lib/libtbbbind_2_5.so.3 is not a symbolic link\n",
            "\n",
            "/sbin/ldconfig.real: /usr/local/lib/libtcm.so.1 is not a symbolic link\n",
            "\n",
            "/sbin/ldconfig.real: /usr/local/lib/libtbbmalloc_proxy.so.2 is not a symbolic link\n",
            "\n",
            "/sbin/ldconfig.real: /usr/local/lib/libur_adapter_level_zero_v2.so.0 is not a symbolic link\n",
            "\n",
            "/sbin/ldconfig.real: /usr/local/lib/libur_loader.so.0 is not a symbolic link\n",
            "\n",
            "env: MUJOCO_PY_MUJOCO_PATH=/root/.mujoco/mujoco210\n",
            "env: MUJOCO_GL=osmesa\n",
            "env: LD_LIBRARY_PATH=/root/.mujoco/mujoco210/bin:/usr/lib/x86_64-linux-gnu:$LD_LIBRARY_PATH\n",
            "env: LD_PRELOAD=/usr/lib/x86_64-linux-gnu/libOSMesa.so:/root/.mujoco/mujoco210/bin/libglewosmesa.so\n"
          ]
        }
      ]
    },
    {
      "cell_type": "code",
      "source": [
        "!apt-get install -y python3.8 python3.8-dev python3.8-venv\n",
        "!python3.8 -m venv /usr/local/py38\n",
        "!/usr/local/py38/bin/python -V\n",
        "\n",
        "# Install pip that supports Python 3.8\n",
        "!curl -sS https://bootstrap.pypa.io/pip/3.8/get-pip.py -o /tmp/get-pip.py\n",
        "!/usr/local/py38/bin/python /tmp/get-pip.py\n",
        "\n",
        "# Keep toolchain versions that still support py38\n",
        "!/usr/local/py38/bin/pip install --upgrade \"pip<24.3\" \"setuptools<70\" wheel"
      ],
      "metadata": {
        "colab": {
          "base_uri": "https://localhost:8080/"
        },
        "id": "o9jxWszyMdMd",
        "outputId": "5cc0d7bc-f749-485a-f991-d669c8d22090"
      },
      "execution_count": 4,
      "outputs": [
        {
          "output_type": "stream",
          "name": "stdout",
          "text": [
            "Reading package lists... Done\n",
            "Building dependency tree... Done\n",
            "Reading state information... Done\n",
            "The following additional packages will be installed:\n",
            "  libpython3.8 libpython3.8-dev libpython3.8-minimal libpython3.8-stdlib\n",
            "  python3.8-distutils python3.8-lib2to3 python3.8-minimal\n",
            "Suggested packages:\n",
            "  binfmt-support\n",
            "The following NEW packages will be installed:\n",
            "  libpython3.8 libpython3.8-dev libpython3.8-minimal libpython3.8-stdlib\n",
            "  python3.8 python3.8-dev python3.8-distutils python3.8-lib2to3\n",
            "  python3.8-minimal python3.8-venv\n",
            "0 upgraded, 10 newly installed, 0 to remove and 43 not upgraded.\n",
            "Need to get 14.7 MB of archives.\n",
            "After this operation, 48.0 MB of additional disk space will be used.\n",
            "Get:1 https://ppa.launchpadcontent.net/deadsnakes/ppa/ubuntu jammy/main amd64 libpython3.8-minimal amd64 3.8.20-1+jammy1 [796 kB]\n",
            "Get:2 https://ppa.launchpadcontent.net/deadsnakes/ppa/ubuntu jammy/main amd64 python3.8-minimal amd64 3.8.20-1+jammy1 [2,023 kB]\n",
            "Get:3 https://ppa.launchpadcontent.net/deadsnakes/ppa/ubuntu jammy/main amd64 libpython3.8-stdlib amd64 3.8.20-1+jammy1 [1,817 kB]\n",
            "Get:4 https://ppa.launchpadcontent.net/deadsnakes/ppa/ubuntu jammy/main amd64 libpython3.8 amd64 3.8.20-1+jammy1 [1,798 kB]\n",
            "Get:5 https://ppa.launchpadcontent.net/deadsnakes/ppa/ubuntu jammy/main amd64 libpython3.8-dev amd64 3.8.20-1+jammy1 [4,389 kB]\n",
            "Get:6 https://ppa.launchpadcontent.net/deadsnakes/ppa/ubuntu jammy/main amd64 python3.8 amd64 3.8.20-1+jammy1 [440 kB]\n",
            "Get:7 https://ppa.launchpadcontent.net/deadsnakes/ppa/ubuntu jammy/main amd64 python3.8-dev amd64 3.8.20-1+jammy1 [500 kB]\n",
            "Get:8 https://ppa.launchpadcontent.net/deadsnakes/ppa/ubuntu jammy/main amd64 python3.8-lib2to3 all 3.8.20-1+jammy1 [126 kB]\n",
            "Get:9 https://ppa.launchpadcontent.net/deadsnakes/ppa/ubuntu jammy/main amd64 python3.8-distutils all 3.8.20-1+jammy1 [193 kB]\n",
            "Get:10 https://ppa.launchpadcontent.net/deadsnakes/ppa/ubuntu jammy/main amd64 python3.8-venv amd64 3.8.20-1+jammy1 [2,618 kB]\n",
            "Fetched 14.7 MB in 21s (706 kB/s)\n",
            "Selecting previously unselected package libpython3.8-minimal:amd64.\n",
            "(Reading database ... 126580 files and directories currently installed.)\n",
            "Preparing to unpack .../0-libpython3.8-minimal_3.8.20-1+jammy1_amd64.deb ...\n",
            "Unpacking libpython3.8-minimal:amd64 (3.8.20-1+jammy1) ...\n",
            "Selecting previously unselected package python3.8-minimal.\n",
            "Preparing to unpack .../1-python3.8-minimal_3.8.20-1+jammy1_amd64.deb ...\n",
            "Unpacking python3.8-minimal (3.8.20-1+jammy1) ...\n",
            "Selecting previously unselected package libpython3.8-stdlib:amd64.\n",
            "Preparing to unpack .../2-libpython3.8-stdlib_3.8.20-1+jammy1_amd64.deb ...\n",
            "Unpacking libpython3.8-stdlib:amd64 (3.8.20-1+jammy1) ...\n",
            "Selecting previously unselected package libpython3.8:amd64.\n",
            "Preparing to unpack .../3-libpython3.8_3.8.20-1+jammy1_amd64.deb ...\n",
            "Unpacking libpython3.8:amd64 (3.8.20-1+jammy1) ...\n",
            "Selecting previously unselected package libpython3.8-dev:amd64.\n",
            "Preparing to unpack .../4-libpython3.8-dev_3.8.20-1+jammy1_amd64.deb ...\n",
            "Unpacking libpython3.8-dev:amd64 (3.8.20-1+jammy1) ...\n",
            "Selecting previously unselected package python3.8.\n",
            "Preparing to unpack .../5-python3.8_3.8.20-1+jammy1_amd64.deb ...\n",
            "Unpacking python3.8 (3.8.20-1+jammy1) ...\n",
            "Selecting previously unselected package python3.8-dev.\n",
            "Preparing to unpack .../6-python3.8-dev_3.8.20-1+jammy1_amd64.deb ...\n",
            "Unpacking python3.8-dev (3.8.20-1+jammy1) ...\n",
            "Selecting previously unselected package python3.8-lib2to3.\n",
            "Preparing to unpack .../7-python3.8-lib2to3_3.8.20-1+jammy1_all.deb ...\n",
            "Unpacking python3.8-lib2to3 (3.8.20-1+jammy1) ...\n",
            "Selecting previously unselected package python3.8-distutils.\n",
            "Preparing to unpack .../8-python3.8-distutils_3.8.20-1+jammy1_all.deb ...\n",
            "Unpacking python3.8-distutils (3.8.20-1+jammy1) ...\n",
            "Selecting previously unselected package python3.8-venv.\n",
            "Preparing to unpack .../9-python3.8-venv_3.8.20-1+jammy1_amd64.deb ...\n",
            "Unpacking python3.8-venv (3.8.20-1+jammy1) ...\n",
            "Setting up libpython3.8-minimal:amd64 (3.8.20-1+jammy1) ...\n",
            "Setting up python3.8-lib2to3 (3.8.20-1+jammy1) ...\n",
            "Setting up python3.8-minimal (3.8.20-1+jammy1) ...\n",
            "Setting up python3.8-distutils (3.8.20-1+jammy1) ...\n",
            "Setting up libpython3.8-stdlib:amd64 (3.8.20-1+jammy1) ...\n",
            "Setting up python3.8 (3.8.20-1+jammy1) ...\n",
            "Setting up libpython3.8:amd64 (3.8.20-1+jammy1) ...\n",
            "Setting up python3.8-venv (3.8.20-1+jammy1) ...\n",
            "Setting up libpython3.8-dev:amd64 (3.8.20-1+jammy1) ...\n",
            "Setting up python3.8-dev (3.8.20-1+jammy1) ...\n",
            "Processing triggers for man-db (2.10.2-1) ...\n",
            "ERROR: ld.so: object '/root/.mujoco/mujoco210/bin/libglewosmesa.so' from LD_PRELOAD cannot be preloaded (cannot open shared object file): ignored.\n",
            "Processing triggers for mailcap (3.70+nmu1ubuntu1) ...\n",
            "Python 3.8.20\n",
            "Collecting pip<25.1\n",
            "  Downloading pip-25.0.1-py3-none-any.whl.metadata (3.7 kB)\n",
            "Collecting wheel\n",
            "  Downloading wheel-0.45.1-py3-none-any.whl.metadata (2.3 kB)\n",
            "Downloading pip-25.0.1-py3-none-any.whl (1.8 MB)\n",
            "\u001b[2K   \u001b[90m━━━━━━━━━━━━━━━━━━━━━━━━━━━━━━━━━━━━━━━━\u001b[0m \u001b[32m1.8/1.8 MB\u001b[0m \u001b[31m17.9 MB/s\u001b[0m eta \u001b[36m0:00:00\u001b[0m\n",
            "\u001b[?25hDownloading wheel-0.45.1-py3-none-any.whl (72 kB)\n",
            "Installing collected packages: wheel, pip\n",
            "  Attempting uninstall: pip\n",
            "    Found existing installation: pip 23.0.1\n",
            "    Uninstalling pip-23.0.1:\n",
            "      Successfully uninstalled pip-23.0.1\n",
            "Successfully installed pip-25.0.1 wheel-0.45.1\n",
            "Collecting pip<24.3\n",
            "  Downloading pip-24.2-py3-none-any.whl.metadata (3.6 kB)\n",
            "Requirement already satisfied: setuptools<70 in /usr/local/py38/lib/python3.8/site-packages (56.0.0)\n",
            "Collecting setuptools<70\n",
            "  Downloading setuptools-69.5.1-py3-none-any.whl.metadata (6.2 kB)\n",
            "Requirement already satisfied: wheel in /usr/local/py38/lib/python3.8/site-packages (0.45.1)\n",
            "Downloading pip-24.2-py3-none-any.whl (1.8 MB)\n",
            "\u001b[2K   \u001b[90m━━━━━━━━━━━━━━━━━━━━━━━━━━━━━━━━━━━━━━━━\u001b[0m \u001b[32m1.8/1.8 MB\u001b[0m \u001b[31m25.3 MB/s\u001b[0m eta \u001b[36m0:00:00\u001b[0m\n",
            "\u001b[?25hDownloading setuptools-69.5.1-py3-none-any.whl (894 kB)\n",
            "\u001b[2K   \u001b[90m━━━━━━━━━━━━━━━━━━━━━━━━━━━━━━━━━━━━━━━━\u001b[0m \u001b[32m894.6/894.6 kB\u001b[0m \u001b[31m26.7 MB/s\u001b[0m eta \u001b[36m0:00:00\u001b[0m\n",
            "\u001b[?25hInstalling collected packages: setuptools, pip\n",
            "  Attempting uninstall: setuptools\n",
            "    Found existing installation: setuptools 56.0.0\n",
            "    Uninstalling setuptools-56.0.0:\n",
            "      Successfully uninstalled setuptools-56.0.0\n",
            "  Attempting uninstall: pip\n",
            "    Found existing installation: pip 25.0.1\n",
            "    Uninstalling pip-25.0.1:\n",
            "      Successfully uninstalled pip-25.0.1\n",
            "Successfully installed pip-24.2 setuptools-69.5.1\n"
          ]
        }
      ]
    },
    {
      "cell_type": "code",
      "source": [
        "# Pin NumPy/Cython for mujoco-py & gym 0.25.1\n",
        "!/usr/local/py38/bin/pip install numpy==1.24.4 \"Cython<3.0\"\n",
        "\n",
        "# Gym + notices\n",
        "!/usr/local/py38/bin/pip install gym==0.25.1 gym-notices\n",
        "\n",
        "# mujoco-py (OpenAI bindings) + glfw Python wrapper\n",
        "!/usr/local/py38/bin/pip install mujoco-py==2.1.2.14 glfw\n",
        "\n",
        "# Logging/plotting\n",
        "!/usr/local/py38/bin/pip install tensorboard==2.10.0 tensorboardX==2.5.1\n",
        "\n",
        "# PyTorch CPU wheels that support py38\n",
        "!/usr/local/py38/bin/pip install torch==1.12.1+cpu torchvision==0.13.1+cpu -f https://download.pytorch.org/whl/torch_stable.html"
      ],
      "metadata": {
        "colab": {
          "base_uri": "https://localhost:8080/"
        },
        "id": "xcL7ZFO4MuFt",
        "outputId": "f2d74445-9459-4577-fce7-39606edde5f6"
      },
      "execution_count": 5,
      "outputs": [
        {
          "output_type": "stream",
          "name": "stdout",
          "text": [
            "Collecting numpy==1.24.4\n",
            "  Downloading numpy-1.24.4-cp38-cp38-manylinux_2_17_x86_64.manylinux2014_x86_64.whl.metadata (5.6 kB)\n",
            "Collecting Cython<3.0\n",
            "  Downloading Cython-0.29.37-cp38-cp38-manylinux_2_17_x86_64.manylinux2014_x86_64.manylinux_2_24_x86_64.whl.metadata (3.1 kB)\n",
            "Downloading numpy-1.24.4-cp38-cp38-manylinux_2_17_x86_64.manylinux2014_x86_64.whl (17.3 MB)\n",
            "\u001b[2K   \u001b[90m━━━━━━━━━━━━━━━━━━━━━━━━━━━━━━━━━━━━━━━━\u001b[0m \u001b[32m17.3/17.3 MB\u001b[0m \u001b[31m92.7 MB/s\u001b[0m eta \u001b[36m0:00:00\u001b[0m\n",
            "\u001b[?25hDownloading Cython-0.29.37-cp38-cp38-manylinux_2_17_x86_64.manylinux2014_x86_64.manylinux_2_24_x86_64.whl (1.9 MB)\n",
            "\u001b[2K   \u001b[90m━━━━━━━━━━━━━━━━━━━━━━━━━━━━━━━━━━━━━━━━\u001b[0m \u001b[32m1.9/1.9 MB\u001b[0m \u001b[31m47.2 MB/s\u001b[0m eta \u001b[36m0:00:00\u001b[0m\n",
            "\u001b[?25hInstalling collected packages: numpy, Cython\n",
            "Successfully installed Cython-0.29.37 numpy-1.24.4\n",
            "Collecting gym==0.25.1\n",
            "  Downloading gym-0.25.1.tar.gz (732 kB)\n",
            "\u001b[2K     \u001b[90m━━━━━━━━━━━━━━━━━━━━━━━━━━━━━━━━━━━━━━\u001b[0m \u001b[32m732.2/732.2 kB\u001b[0m \u001b[31m12.0 MB/s\u001b[0m eta \u001b[36m0:00:00\u001b[0m\n",
            "\u001b[?25h  Installing build dependencies ... \u001b[?25l\u001b[?25hdone\n",
            "  Getting requirements to build wheel ... \u001b[?25l\u001b[?25hdone\n",
            "  Preparing metadata (pyproject.toml) ... \u001b[?25l\u001b[?25hdone\n",
            "Collecting gym-notices\n",
            "  Downloading gym_notices-0.1.0-py3-none-any.whl.metadata (1.2 kB)\n",
            "Requirement already satisfied: numpy>=1.18.0 in /usr/local/py38/lib/python3.8/site-packages (from gym==0.25.1) (1.24.4)\n",
            "Collecting cloudpickle>=1.2.0 (from gym==0.25.1)\n",
            "  Downloading cloudpickle-3.1.1-py3-none-any.whl.metadata (7.1 kB)\n",
            "Collecting importlib-metadata>=4.8.0 (from gym==0.25.1)\n",
            "  Downloading importlib_metadata-8.5.0-py3-none-any.whl.metadata (4.8 kB)\n",
            "Collecting zipp>=3.20 (from importlib-metadata>=4.8.0->gym==0.25.1)\n",
            "  Downloading zipp-3.20.2-py3-none-any.whl.metadata (3.7 kB)\n",
            "Downloading gym_notices-0.1.0-py3-none-any.whl (3.3 kB)\n",
            "Downloading cloudpickle-3.1.1-py3-none-any.whl (20 kB)\n",
            "Downloading importlib_metadata-8.5.0-py3-none-any.whl (26 kB)\n",
            "Downloading zipp-3.20.2-py3-none-any.whl (9.2 kB)\n",
            "Building wheels for collected packages: gym\n",
            "  Building wheel for gym (pyproject.toml) ... \u001b[?25l\u001b[?25hdone\n",
            "  Created wheel for gym: filename=gym-0.25.1-py3-none-any.whl size=849019 sha256=eb9f49fc79800db667c04a9b67fb6f48cd163e272f43840755fca31ca7198c1f\n",
            "  Stored in directory: /root/.cache/pip/wheels/cc/73/13/48bbc89268e1515e9e26f60c50ee870632c700c75cf7a53fbe\n",
            "Successfully built gym\n",
            "Installing collected packages: gym-notices, zipp, cloudpickle, importlib-metadata, gym\n",
            "Successfully installed cloudpickle-3.1.1 gym-0.25.1 gym-notices-0.1.0 importlib-metadata-8.5.0 zipp-3.20.2\n",
            "Collecting mujoco-py==2.1.2.14\n",
            "  Downloading mujoco_py-2.1.2.14-py3-none-any.whl.metadata (669 bytes)\n",
            "Collecting glfw\n",
            "  Downloading glfw-2.10.0-py2.py27.py3.py30.py31.py32.py33.py34.py35.py36.py37.py38.p39.p310.p311.p312.p313-none-manylinux_2_28_x86_64.whl.metadata (5.4 kB)\n",
            "Requirement already satisfied: numpy>=1.11 in /usr/local/py38/lib/python3.8/site-packages (from mujoco-py==2.1.2.14) (1.24.4)\n",
            "Requirement already satisfied: Cython>=0.27.2 in /usr/local/py38/lib/python3.8/site-packages (from mujoco-py==2.1.2.14) (0.29.37)\n",
            "Collecting imageio>=2.1.2 (from mujoco-py==2.1.2.14)\n",
            "  Downloading imageio-2.35.1-py3-none-any.whl.metadata (4.9 kB)\n",
            "Collecting cffi>=1.10 (from mujoco-py==2.1.2.14)\n",
            "  Downloading cffi-1.17.1-cp38-cp38-manylinux_2_17_x86_64.manylinux2014_x86_64.whl.metadata (1.5 kB)\n",
            "Collecting fasteners~=0.15 (from mujoco-py==2.1.2.14)\n",
            "  Downloading fasteners-0.20-py3-none-any.whl.metadata (4.8 kB)\n",
            "Collecting pycparser (from cffi>=1.10->mujoco-py==2.1.2.14)\n",
            "  Downloading pycparser-2.23-py3-none-any.whl.metadata (993 bytes)\n",
            "Collecting pillow>=8.3.2 (from imageio>=2.1.2->mujoco-py==2.1.2.14)\n",
            "  Downloading pillow-10.4.0-cp38-cp38-manylinux_2_28_x86_64.whl.metadata (9.2 kB)\n",
            "Downloading mujoco_py-2.1.2.14-py3-none-any.whl (2.4 MB)\n",
            "\u001b[2K   \u001b[90m━━━━━━━━━━━━━━━━━━━━━━━━━━━━━━━━━━━━━━━━\u001b[0m \u001b[32m2.4/2.4 MB\u001b[0m \u001b[31m29.6 MB/s\u001b[0m eta \u001b[36m0:00:00\u001b[0m\n",
            "\u001b[?25hDownloading glfw-2.10.0-py2.py27.py3.py30.py31.py32.py33.py34.py35.py36.py37.py38.p39.p310.p311.p312.p313-none-manylinux_2_28_x86_64.whl (243 kB)\n",
            "Downloading cffi-1.17.1-cp38-cp38-manylinux_2_17_x86_64.manylinux2014_x86_64.whl (446 kB)\n",
            "Downloading fasteners-0.20-py3-none-any.whl (18 kB)\n",
            "Downloading imageio-2.35.1-py3-none-any.whl (315 kB)\n",
            "Downloading pillow-10.4.0-cp38-cp38-manylinux_2_28_x86_64.whl (4.5 MB)\n",
            "\u001b[2K   \u001b[90m━━━━━━━━━━━━━━━━━━━━━━━━━━━━━━━━━━━━━━━━\u001b[0m \u001b[32m4.5/4.5 MB\u001b[0m \u001b[31m91.7 MB/s\u001b[0m eta \u001b[36m0:00:00\u001b[0m\n",
            "\u001b[?25hDownloading pycparser-2.23-py3-none-any.whl (118 kB)\n",
            "Installing collected packages: glfw, pycparser, pillow, fasteners, imageio, cffi, mujoco-py\n",
            "Successfully installed cffi-1.17.1 fasteners-0.20 glfw-2.10.0 imageio-2.35.1 mujoco-py-2.1.2.14 pillow-10.4.0 pycparser-2.23\n",
            "Collecting tensorboard==2.10.0\n",
            "  Downloading tensorboard-2.10.0-py3-none-any.whl.metadata (1.9 kB)\n",
            "Collecting tensorboardX==2.5.1\n",
            "  Downloading tensorboardX-2.5.1-py2.py3-none-any.whl.metadata (5.2 kB)\n",
            "Collecting absl-py>=0.4 (from tensorboard==2.10.0)\n",
            "  Downloading absl_py-2.3.1-py3-none-any.whl.metadata (3.3 kB)\n",
            "Collecting grpcio>=1.24.3 (from tensorboard==2.10.0)\n",
            "  Downloading grpcio-1.70.0-cp38-cp38-manylinux_2_17_x86_64.manylinux2014_x86_64.whl.metadata (3.9 kB)\n",
            "Collecting google-auth<3,>=1.6.3 (from tensorboard==2.10.0)\n",
            "  Downloading google_auth-2.40.3-py2.py3-none-any.whl.metadata (6.2 kB)\n",
            "Collecting google-auth-oauthlib<0.5,>=0.4.1 (from tensorboard==2.10.0)\n",
            "  Downloading google_auth_oauthlib-0.4.6-py2.py3-none-any.whl.metadata (2.7 kB)\n",
            "Collecting markdown>=2.6.8 (from tensorboard==2.10.0)\n",
            "  Downloading Markdown-3.7-py3-none-any.whl.metadata (7.0 kB)\n",
            "Requirement already satisfied: numpy>=1.12.0 in /usr/local/py38/lib/python3.8/site-packages (from tensorboard==2.10.0) (1.24.4)\n",
            "Collecting protobuf<3.20,>=3.9.2 (from tensorboard==2.10.0)\n",
            "  Downloading protobuf-3.19.6-cp38-cp38-manylinux_2_17_x86_64.manylinux2014_x86_64.whl.metadata (787 bytes)\n",
            "Collecting requests<3,>=2.21.0 (from tensorboard==2.10.0)\n",
            "  Downloading requests-2.32.4-py3-none-any.whl.metadata (4.9 kB)\n",
            "Requirement already satisfied: setuptools>=41.0.0 in /usr/local/py38/lib/python3.8/site-packages (from tensorboard==2.10.0) (69.5.1)\n",
            "Collecting tensorboard-data-server<0.7.0,>=0.6.0 (from tensorboard==2.10.0)\n",
            "  Downloading tensorboard_data_server-0.6.1-py3-none-manylinux2010_x86_64.whl.metadata (1.1 kB)\n",
            "Collecting tensorboard-plugin-wit>=1.6.0 (from tensorboard==2.10.0)\n",
            "  Downloading tensorboard_plugin_wit-1.8.1-py3-none-any.whl.metadata (873 bytes)\n",
            "Collecting werkzeug>=1.0.1 (from tensorboard==2.10.0)\n",
            "  Downloading werkzeug-3.0.6-py3-none-any.whl.metadata (3.7 kB)\n",
            "Requirement already satisfied: wheel>=0.26 in /usr/local/py38/lib/python3.8/site-packages (from tensorboard==2.10.0) (0.45.1)\n",
            "Collecting cachetools<6.0,>=2.0.0 (from google-auth<3,>=1.6.3->tensorboard==2.10.0)\n",
            "  Downloading cachetools-5.5.2-py3-none-any.whl.metadata (5.4 kB)\n",
            "Collecting pyasn1-modules>=0.2.1 (from google-auth<3,>=1.6.3->tensorboard==2.10.0)\n",
            "  Downloading pyasn1_modules-0.4.2-py3-none-any.whl.metadata (3.5 kB)\n",
            "Collecting rsa<5,>=3.1.4 (from google-auth<3,>=1.6.3->tensorboard==2.10.0)\n",
            "  Downloading rsa-4.9.1-py3-none-any.whl.metadata (5.6 kB)\n",
            "Collecting requests-oauthlib>=0.7.0 (from google-auth-oauthlib<0.5,>=0.4.1->tensorboard==2.10.0)\n",
            "  Downloading requests_oauthlib-2.0.0-py2.py3-none-any.whl.metadata (11 kB)\n",
            "Requirement already satisfied: importlib-metadata>=4.4 in /usr/local/py38/lib/python3.8/site-packages (from markdown>=2.6.8->tensorboard==2.10.0) (8.5.0)\n",
            "Collecting charset_normalizer<4,>=2 (from requests<3,>=2.21.0->tensorboard==2.10.0)\n",
            "  Downloading charset_normalizer-3.4.3-cp38-cp38-manylinux2014_x86_64.manylinux_2_17_x86_64.manylinux_2_28_x86_64.whl.metadata (36 kB)\n",
            "Collecting idna<4,>=2.5 (from requests<3,>=2.21.0->tensorboard==2.10.0)\n",
            "  Downloading idna-3.10-py3-none-any.whl.metadata (10 kB)\n",
            "Collecting urllib3<3,>=1.21.1 (from requests<3,>=2.21.0->tensorboard==2.10.0)\n",
            "  Downloading urllib3-2.2.3-py3-none-any.whl.metadata (6.5 kB)\n",
            "Collecting certifi>=2017.4.17 (from requests<3,>=2.21.0->tensorboard==2.10.0)\n",
            "  Downloading certifi-2025.8.3-py3-none-any.whl.metadata (2.4 kB)\n",
            "Collecting MarkupSafe>=2.1.1 (from werkzeug>=1.0.1->tensorboard==2.10.0)\n",
            "  Downloading MarkupSafe-2.1.5-cp38-cp38-manylinux_2_17_x86_64.manylinux2014_x86_64.whl.metadata (3.0 kB)\n",
            "Requirement already satisfied: zipp>=3.20 in /usr/local/py38/lib/python3.8/site-packages (from importlib-metadata>=4.4->markdown>=2.6.8->tensorboard==2.10.0) (3.20.2)\n",
            "Collecting pyasn1<0.7.0,>=0.6.1 (from pyasn1-modules>=0.2.1->google-auth<3,>=1.6.3->tensorboard==2.10.0)\n",
            "  Downloading pyasn1-0.6.1-py3-none-any.whl.metadata (8.4 kB)\n",
            "Collecting oauthlib>=3.0.0 (from requests-oauthlib>=0.7.0->google-auth-oauthlib<0.5,>=0.4.1->tensorboard==2.10.0)\n",
            "  Downloading oauthlib-3.3.1-py3-none-any.whl.metadata (7.9 kB)\n",
            "Downloading tensorboard-2.10.0-py3-none-any.whl (5.9 MB)\n",
            "\u001b[2K   \u001b[90m━━━━━━━━━━━━━━━━━━━━━━━━━━━━━━━━━━━━━━━━\u001b[0m \u001b[32m5.9/5.9 MB\u001b[0m \u001b[31m10.4 MB/s\u001b[0m eta \u001b[36m0:00:00\u001b[0m\n",
            "\u001b[?25hDownloading tensorboardX-2.5.1-py2.py3-none-any.whl (125 kB)\n",
            "Downloading absl_py-2.3.1-py3-none-any.whl (135 kB)\n",
            "Downloading google_auth-2.40.3-py2.py3-none-any.whl (216 kB)\n",
            "Downloading google_auth_oauthlib-0.4.6-py2.py3-none-any.whl (18 kB)\n",
            "Downloading grpcio-1.70.0-cp38-cp38-manylinux_2_17_x86_64.manylinux2014_x86_64.whl (6.0 MB)\n",
            "\u001b[2K   \u001b[90m━━━━━━━━━━━━━━━━━━━━━━━━━━━━━━━━━━━━━━━━\u001b[0m \u001b[32m6.0/6.0 MB\u001b[0m \u001b[31m19.5 MB/s\u001b[0m eta \u001b[36m0:00:00\u001b[0m\n",
            "\u001b[?25hDownloading Markdown-3.7-py3-none-any.whl (106 kB)\n",
            "Downloading protobuf-3.19.6-cp38-cp38-manylinux_2_17_x86_64.manylinux2014_x86_64.whl (1.1 MB)\n",
            "\u001b[2K   \u001b[90m━━━━━━━━━━━━━━━━━━━━━━━━━━━━━━━━━━━━━━━━\u001b[0m \u001b[32m1.1/1.1 MB\u001b[0m \u001b[31m15.4 MB/s\u001b[0m eta \u001b[36m0:00:00\u001b[0m\n",
            "\u001b[?25hDownloading requests-2.32.4-py3-none-any.whl (64 kB)\n",
            "Downloading tensorboard_data_server-0.6.1-py3-none-manylinux2010_x86_64.whl (4.9 MB)\n",
            "\u001b[2K   \u001b[90m━━━━━━━━━━━━━━━━━━━━━━━━━━━━━━━━━━━━━━━━\u001b[0m \u001b[32m4.9/4.9 MB\u001b[0m \u001b[31m28.0 MB/s\u001b[0m eta \u001b[36m0:00:00\u001b[0m\n",
            "\u001b[?25hDownloading tensorboard_plugin_wit-1.8.1-py3-none-any.whl (781 kB)\n",
            "\u001b[2K   \u001b[90m━━━━━━━━━━━━━━━━━━━━━━━━━━━━━━━━━━━━━━━━\u001b[0m \u001b[32m781.3/781.3 kB\u001b[0m \u001b[31m20.4 MB/s\u001b[0m eta \u001b[36m0:00:00\u001b[0m\n",
            "\u001b[?25hDownloading werkzeug-3.0.6-py3-none-any.whl (227 kB)\n",
            "Downloading cachetools-5.5.2-py3-none-any.whl (10 kB)\n",
            "Downloading certifi-2025.8.3-py3-none-any.whl (161 kB)\n",
            "Downloading charset_normalizer-3.4.3-cp38-cp38-manylinux2014_x86_64.manylinux_2_17_x86_64.manylinux_2_28_x86_64.whl (147 kB)\n",
            "Downloading idna-3.10-py3-none-any.whl (70 kB)\n",
            "Downloading MarkupSafe-2.1.5-cp38-cp38-manylinux_2_17_x86_64.manylinux2014_x86_64.whl (26 kB)\n",
            "Downloading pyasn1_modules-0.4.2-py3-none-any.whl (181 kB)\n",
            "Downloading requests_oauthlib-2.0.0-py2.py3-none-any.whl (24 kB)\n",
            "Downloading rsa-4.9.1-py3-none-any.whl (34 kB)\n",
            "Downloading urllib3-2.2.3-py3-none-any.whl (126 kB)\n",
            "Downloading oauthlib-3.3.1-py3-none-any.whl (160 kB)\n",
            "Downloading pyasn1-0.6.1-py3-none-any.whl (83 kB)\n",
            "Installing collected packages: tensorboard-plugin-wit, urllib3, tensorboard-data-server, pyasn1, protobuf, oauthlib, MarkupSafe, idna, grpcio, charset_normalizer, certifi, cachetools, absl-py, werkzeug, tensorboardX, rsa, requests, pyasn1-modules, markdown, requests-oauthlib, google-auth, google-auth-oauthlib, tensorboard\n",
            "Successfully installed MarkupSafe-2.1.5 absl-py-2.3.1 cachetools-5.5.2 certifi-2025.8.3 charset_normalizer-3.4.3 google-auth-2.40.3 google-auth-oauthlib-0.4.6 grpcio-1.70.0 idna-3.10 markdown-3.7 oauthlib-3.3.1 protobuf-3.19.6 pyasn1-0.6.1 pyasn1-modules-0.4.2 requests-2.32.4 requests-oauthlib-2.0.0 rsa-4.9.1 tensorboard-2.10.0 tensorboard-data-server-0.6.1 tensorboard-plugin-wit-1.8.1 tensorboardX-2.5.1 urllib3-2.2.3 werkzeug-3.0.6\n",
            "Looking in links: https://download.pytorch.org/whl/torch_stable.html\n",
            "Collecting torch==1.12.1+cpu\n",
            "  Downloading https://download.pytorch.org/whl/cpu/torch-1.12.1%2Bcpu-cp38-cp38-linux_x86_64.whl (189.2 MB)\n",
            "\u001b[2K     \u001b[90m━━━━━━━━━━━━━━━━━━━━━━━━━━━━━━━━━━━━━━\u001b[0m \u001b[32m189.2/189.2 MB\u001b[0m \u001b[31m44.9 MB/s\u001b[0m eta \u001b[36m0:00:00\u001b[0m\n",
            "\u001b[?25hCollecting torchvision==0.13.1+cpu\n",
            "  Downloading https://download.pytorch.org/whl/cpu/torchvision-0.13.1%2Bcpu-cp38-cp38-linux_x86_64.whl (13.5 MB)\n",
            "\u001b[2K     \u001b[90m━━━━━━━━━━━━━━━━━━━━━━━━━━━━━━━━━━━━━━━━\u001b[0m \u001b[32m13.5/13.5 MB\u001b[0m \u001b[31m58.4 MB/s\u001b[0m eta \u001b[36m0:00:00\u001b[0m\n",
            "\u001b[?25hCollecting typing-extensions (from torch==1.12.1+cpu)\n",
            "  Downloading typing_extensions-4.13.2-py3-none-any.whl.metadata (3.0 kB)\n",
            "Requirement already satisfied: numpy in /usr/local/py38/lib/python3.8/site-packages (from torchvision==0.13.1+cpu) (1.24.4)\n",
            "Requirement already satisfied: requests in /usr/local/py38/lib/python3.8/site-packages (from torchvision==0.13.1+cpu) (2.32.4)\n",
            "Requirement already satisfied: pillow!=8.3.*,>=5.3.0 in /usr/local/py38/lib/python3.8/site-packages (from torchvision==0.13.1+cpu) (10.4.0)\n",
            "Requirement already satisfied: charset_normalizer<4,>=2 in /usr/local/py38/lib/python3.8/site-packages (from requests->torchvision==0.13.1+cpu) (3.4.3)\n",
            "Requirement already satisfied: idna<4,>=2.5 in /usr/local/py38/lib/python3.8/site-packages (from requests->torchvision==0.13.1+cpu) (3.10)\n",
            "Requirement already satisfied: urllib3<3,>=1.21.1 in /usr/local/py38/lib/python3.8/site-packages (from requests->torchvision==0.13.1+cpu) (2.2.3)\n",
            "Requirement already satisfied: certifi>=2017.4.17 in /usr/local/py38/lib/python3.8/site-packages (from requests->torchvision==0.13.1+cpu) (2025.8.3)\n",
            "Downloading typing_extensions-4.13.2-py3-none-any.whl (45 kB)\n",
            "Installing collected packages: typing-extensions, torch, torchvision\n",
            "Successfully installed torch-1.12.1+cpu torchvision-0.13.1+cpu typing-extensions-4.13.2\n"
          ]
        }
      ]
    },
    {
      "cell_type": "code",
      "source": [
        "# Create Python 3.8 venv in Colab\n",
        "!python3 -m venv /usr/local/py38\n",
        "!/usr/local/py38/bin/python -m pip install --upgrade pip==24.0\n",
        "\n",
        "# Core versions compatible with mujoco-py + gym 0.25.1\n",
        "!/usr/local/py38/bin/pip install numpy==1.24.4 \"Cython<3.0\"\n",
        "!/usr/local/py38/bin/pip install gym==0.25.1 gym-notices\n",
        "!/usr/local/py38/bin/pip install mujoco-py==2.1.2.14 glfw\n",
        "!/usr/local/py38/bin/pip install tensorboard==2.10.0 tensorboardX==2.5.1 \"matplotlib==3.7.5\"\n",
        "!/usr/local/py38/bin/pip install torch==1.12.1+cpu torchvision==0.13.1+cpu -f https://download.pytorch.org/whl/torch_stable.html"
      ],
      "metadata": {
        "colab": {
          "base_uri": "https://localhost:8080/"
        },
        "id": "6jECPK_CNCTV",
        "outputId": "0cc2f69d-e280-46c9-95c7-cd2d44050fe8"
      },
      "execution_count": 6,
      "outputs": [
        {
          "output_type": "stream",
          "name": "stdout",
          "text": [
            "Collecting pip==24.0\n",
            "  Downloading pip-24.0-py3-none-any.whl.metadata (3.6 kB)\n",
            "Downloading pip-24.0-py3-none-any.whl (2.1 MB)\n",
            "\u001b[2K   \u001b[90m━━━━━━━━━━━━━━━━━━━━━━━━━━━━━━━━━━━━━━━━\u001b[0m \u001b[32m2.1/2.1 MB\u001b[0m \u001b[31m18.1 MB/s\u001b[0m eta \u001b[36m0:00:00\u001b[0m\n",
            "\u001b[?25hInstalling collected packages: pip\n",
            "  Attempting uninstall: pip\n",
            "    Found existing installation: pip 24.2\n",
            "    Uninstalling pip-24.2:\n",
            "      Successfully uninstalled pip-24.2\n",
            "Successfully installed pip-24.0\n",
            "Requirement already satisfied: numpy==1.24.4 in /usr/local/py38/lib/python3.8/site-packages (1.24.4)\n",
            "Requirement already satisfied: Cython<3.0 in /usr/local/py38/lib/python3.8/site-packages (0.29.37)\n",
            "Requirement already satisfied: gym==0.25.1 in /usr/local/py38/lib/python3.8/site-packages (0.25.1)\n",
            "Requirement already satisfied: gym-notices in /usr/local/py38/lib/python3.8/site-packages (0.1.0)\n",
            "Requirement already satisfied: numpy>=1.18.0 in /usr/local/py38/lib/python3.8/site-packages (from gym==0.25.1) (1.24.4)\n",
            "Requirement already satisfied: cloudpickle>=1.2.0 in /usr/local/py38/lib/python3.8/site-packages (from gym==0.25.1) (3.1.1)\n",
            "Requirement already satisfied: importlib-metadata>=4.8.0 in /usr/local/py38/lib/python3.8/site-packages (from gym==0.25.1) (8.5.0)\n",
            "Requirement already satisfied: zipp>=3.20 in /usr/local/py38/lib/python3.8/site-packages (from importlib-metadata>=4.8.0->gym==0.25.1) (3.20.2)\n",
            "Requirement already satisfied: mujoco-py==2.1.2.14 in /usr/local/py38/lib/python3.8/site-packages (2.1.2.14)\n",
            "Requirement already satisfied: glfw in /usr/local/py38/lib/python3.8/site-packages (2.10.0)\n",
            "Requirement already satisfied: numpy>=1.11 in /usr/local/py38/lib/python3.8/site-packages (from mujoco-py==2.1.2.14) (1.24.4)\n",
            "Requirement already satisfied: Cython>=0.27.2 in /usr/local/py38/lib/python3.8/site-packages (from mujoco-py==2.1.2.14) (0.29.37)\n",
            "Requirement already satisfied: imageio>=2.1.2 in /usr/local/py38/lib/python3.8/site-packages (from mujoco-py==2.1.2.14) (2.35.1)\n",
            "Requirement already satisfied: cffi>=1.10 in /usr/local/py38/lib/python3.8/site-packages (from mujoco-py==2.1.2.14) (1.17.1)\n",
            "Requirement already satisfied: fasteners~=0.15 in /usr/local/py38/lib/python3.8/site-packages (from mujoco-py==2.1.2.14) (0.20)\n",
            "Requirement already satisfied: pycparser in /usr/local/py38/lib/python3.8/site-packages (from cffi>=1.10->mujoco-py==2.1.2.14) (2.23)\n",
            "Requirement already satisfied: pillow>=8.3.2 in /usr/local/py38/lib/python3.8/site-packages (from imageio>=2.1.2->mujoco-py==2.1.2.14) (10.4.0)\n",
            "Requirement already satisfied: tensorboard==2.10.0 in /usr/local/py38/lib/python3.8/site-packages (2.10.0)\n",
            "Requirement already satisfied: tensorboardX==2.5.1 in /usr/local/py38/lib/python3.8/site-packages (2.5.1)\n",
            "Collecting matplotlib==3.7.5\n",
            "  Downloading matplotlib-3.7.5-cp38-cp38-manylinux_2_12_x86_64.manylinux2010_x86_64.whl.metadata (5.7 kB)\n",
            "Requirement already satisfied: absl-py>=0.4 in /usr/local/py38/lib/python3.8/site-packages (from tensorboard==2.10.0) (2.3.1)\n",
            "Requirement already satisfied: grpcio>=1.24.3 in /usr/local/py38/lib/python3.8/site-packages (from tensorboard==2.10.0) (1.70.0)\n",
            "Requirement already satisfied: google-auth<3,>=1.6.3 in /usr/local/py38/lib/python3.8/site-packages (from tensorboard==2.10.0) (2.40.3)\n",
            "Requirement already satisfied: google-auth-oauthlib<0.5,>=0.4.1 in /usr/local/py38/lib/python3.8/site-packages (from tensorboard==2.10.0) (0.4.6)\n",
            "Requirement already satisfied: markdown>=2.6.8 in /usr/local/py38/lib/python3.8/site-packages (from tensorboard==2.10.0) (3.7)\n",
            "Requirement already satisfied: numpy>=1.12.0 in /usr/local/py38/lib/python3.8/site-packages (from tensorboard==2.10.0) (1.24.4)\n",
            "Requirement already satisfied: protobuf<3.20,>=3.9.2 in /usr/local/py38/lib/python3.8/site-packages (from tensorboard==2.10.0) (3.19.6)\n",
            "Requirement already satisfied: requests<3,>=2.21.0 in /usr/local/py38/lib/python3.8/site-packages (from tensorboard==2.10.0) (2.32.4)\n",
            "Requirement already satisfied: setuptools>=41.0.0 in /usr/local/py38/lib/python3.8/site-packages (from tensorboard==2.10.0) (69.5.1)\n",
            "Requirement already satisfied: tensorboard-data-server<0.7.0,>=0.6.0 in /usr/local/py38/lib/python3.8/site-packages (from tensorboard==2.10.0) (0.6.1)\n",
            "Requirement already satisfied: tensorboard-plugin-wit>=1.6.0 in /usr/local/py38/lib/python3.8/site-packages (from tensorboard==2.10.0) (1.8.1)\n",
            "Requirement already satisfied: werkzeug>=1.0.1 in /usr/local/py38/lib/python3.8/site-packages (from tensorboard==2.10.0) (3.0.6)\n",
            "Requirement already satisfied: wheel>=0.26 in /usr/local/py38/lib/python3.8/site-packages (from tensorboard==2.10.0) (0.45.1)\n",
            "Collecting contourpy>=1.0.1 (from matplotlib==3.7.5)\n",
            "  Downloading contourpy-1.1.1-cp38-cp38-manylinux_2_17_x86_64.manylinux2014_x86_64.whl.metadata (5.9 kB)\n",
            "Collecting cycler>=0.10 (from matplotlib==3.7.5)\n",
            "  Downloading cycler-0.12.1-py3-none-any.whl.metadata (3.8 kB)\n",
            "Collecting fonttools>=4.22.0 (from matplotlib==3.7.5)\n",
            "  Downloading fonttools-4.57.0-cp38-cp38-manylinux_2_17_x86_64.manylinux2014_x86_64.whl.metadata (102 kB)\n",
            "\u001b[2K     \u001b[90m━━━━━━━━━━━━━━━━━━━━━━━━━━━━━━━━━━━━━━━\u001b[0m \u001b[32m102.3/102.3 kB\u001b[0m \u001b[31m2.1 MB/s\u001b[0m eta \u001b[36m0:00:00\u001b[0m\n",
            "\u001b[?25hCollecting kiwisolver>=1.0.1 (from matplotlib==3.7.5)\n",
            "  Downloading kiwisolver-1.4.7-cp38-cp38-manylinux_2_5_x86_64.manylinux1_x86_64.whl.metadata (6.3 kB)\n",
            "Collecting packaging>=20.0 (from matplotlib==3.7.5)\n",
            "  Downloading packaging-25.0-py3-none-any.whl.metadata (3.3 kB)\n",
            "Requirement already satisfied: pillow>=6.2.0 in /usr/local/py38/lib/python3.8/site-packages (from matplotlib==3.7.5) (10.4.0)\n",
            "Collecting pyparsing>=2.3.1 (from matplotlib==3.7.5)\n",
            "  Downloading pyparsing-3.1.4-py3-none-any.whl.metadata (5.1 kB)\n",
            "Collecting python-dateutil>=2.7 (from matplotlib==3.7.5)\n",
            "  Downloading python_dateutil-2.9.0.post0-py2.py3-none-any.whl.metadata (8.4 kB)\n",
            "Collecting importlib-resources>=3.2.0 (from matplotlib==3.7.5)\n",
            "  Downloading importlib_resources-6.4.5-py3-none-any.whl.metadata (4.0 kB)\n",
            "Requirement already satisfied: cachetools<6.0,>=2.0.0 in /usr/local/py38/lib/python3.8/site-packages (from google-auth<3,>=1.6.3->tensorboard==2.10.0) (5.5.2)\n",
            "Requirement already satisfied: pyasn1-modules>=0.2.1 in /usr/local/py38/lib/python3.8/site-packages (from google-auth<3,>=1.6.3->tensorboard==2.10.0) (0.4.2)\n",
            "Requirement already satisfied: rsa<5,>=3.1.4 in /usr/local/py38/lib/python3.8/site-packages (from google-auth<3,>=1.6.3->tensorboard==2.10.0) (4.9.1)\n",
            "Requirement already satisfied: requests-oauthlib>=0.7.0 in /usr/local/py38/lib/python3.8/site-packages (from google-auth-oauthlib<0.5,>=0.4.1->tensorboard==2.10.0) (2.0.0)\n",
            "Requirement already satisfied: zipp>=3.1.0 in /usr/local/py38/lib/python3.8/site-packages (from importlib-resources>=3.2.0->matplotlib==3.7.5) (3.20.2)\n",
            "Requirement already satisfied: importlib-metadata>=4.4 in /usr/local/py38/lib/python3.8/site-packages (from markdown>=2.6.8->tensorboard==2.10.0) (8.5.0)\n",
            "Collecting six>=1.5 (from python-dateutil>=2.7->matplotlib==3.7.5)\n",
            "  Downloading six-1.17.0-py2.py3-none-any.whl.metadata (1.7 kB)\n",
            "Requirement already satisfied: charset_normalizer<4,>=2 in /usr/local/py38/lib/python3.8/site-packages (from requests<3,>=2.21.0->tensorboard==2.10.0) (3.4.3)\n",
            "Requirement already satisfied: idna<4,>=2.5 in /usr/local/py38/lib/python3.8/site-packages (from requests<3,>=2.21.0->tensorboard==2.10.0) (3.10)\n",
            "Requirement already satisfied: urllib3<3,>=1.21.1 in /usr/local/py38/lib/python3.8/site-packages (from requests<3,>=2.21.0->tensorboard==2.10.0) (2.2.3)\n",
            "Requirement already satisfied: certifi>=2017.4.17 in /usr/local/py38/lib/python3.8/site-packages (from requests<3,>=2.21.0->tensorboard==2.10.0) (2025.8.3)\n",
            "Requirement already satisfied: MarkupSafe>=2.1.1 in /usr/local/py38/lib/python3.8/site-packages (from werkzeug>=1.0.1->tensorboard==2.10.0) (2.1.5)\n",
            "Requirement already satisfied: pyasn1<0.7.0,>=0.6.1 in /usr/local/py38/lib/python3.8/site-packages (from pyasn1-modules>=0.2.1->google-auth<3,>=1.6.3->tensorboard==2.10.0) (0.6.1)\n",
            "Requirement already satisfied: oauthlib>=3.0.0 in /usr/local/py38/lib/python3.8/site-packages (from requests-oauthlib>=0.7.0->google-auth-oauthlib<0.5,>=0.4.1->tensorboard==2.10.0) (3.3.1)\n",
            "Downloading matplotlib-3.7.5-cp38-cp38-manylinux_2_12_x86_64.manylinux2010_x86_64.whl (9.2 MB)\n",
            "\u001b[2K   \u001b[90m━━━━━━━━━━━━━━━━━━━━━━━━━━━━━━━━━━━━━━━━\u001b[0m \u001b[32m9.2/9.2 MB\u001b[0m \u001b[31m55.3 MB/s\u001b[0m eta \u001b[36m0:00:00\u001b[0m\n",
            "\u001b[?25hDownloading contourpy-1.1.1-cp38-cp38-manylinux_2_17_x86_64.manylinux2014_x86_64.whl (301 kB)\n",
            "\u001b[2K   \u001b[90m━━━━━━━━━━━━━━━━━━━━━━━━━━━━━━━━━━━━━━━━\u001b[0m \u001b[32m301.1/301.1 kB\u001b[0m \u001b[31m8.9 MB/s\u001b[0m eta \u001b[36m0:00:00\u001b[0m\n",
            "\u001b[?25hDownloading cycler-0.12.1-py3-none-any.whl (8.3 kB)\n",
            "Downloading fonttools-4.57.0-cp38-cp38-manylinux_2_17_x86_64.manylinux2014_x86_64.whl (4.7 MB)\n",
            "\u001b[2K   \u001b[90m━━━━━━━━━━━━━━━━━━━━━━━━━━━━━━━━━━━━━━━━\u001b[0m \u001b[32m4.7/4.7 MB\u001b[0m \u001b[31m51.6 MB/s\u001b[0m eta \u001b[36m0:00:00\u001b[0m\n",
            "\u001b[?25hDownloading importlib_resources-6.4.5-py3-none-any.whl (36 kB)\n",
            "Downloading kiwisolver-1.4.7-cp38-cp38-manylinux_2_5_x86_64.manylinux1_x86_64.whl (1.2 MB)\n",
            "\u001b[2K   \u001b[90m━━━━━━━━━━━━━━━━━━━━━━━━━━━━━━━━━━━━━━━━\u001b[0m \u001b[32m1.2/1.2 MB\u001b[0m \u001b[31m25.2 MB/s\u001b[0m eta \u001b[36m0:00:00\u001b[0m\n",
            "\u001b[?25hDownloading packaging-25.0-py3-none-any.whl (66 kB)\n",
            "\u001b[2K   \u001b[90m━━━━━━━━━━━━━━━━━━━━━━━━━━━━━━━━━━━━━━━━\u001b[0m \u001b[32m66.5/66.5 kB\u001b[0m \u001b[31m2.2 MB/s\u001b[0m eta \u001b[36m0:00:00\u001b[0m\n",
            "\u001b[?25hDownloading pyparsing-3.1.4-py3-none-any.whl (104 kB)\n",
            "\u001b[2K   \u001b[90m━━━━━━━━━━━━━━━━━━━━━━━━━━━━━━━━━━━━━━━━\u001b[0m \u001b[32m104.1/104.1 kB\u001b[0m \u001b[31m3.3 MB/s\u001b[0m eta \u001b[36m0:00:00\u001b[0m\n",
            "\u001b[?25hDownloading python_dateutil-2.9.0.post0-py2.py3-none-any.whl (229 kB)\n",
            "\u001b[2K   \u001b[90m━━━━━━━━━━━━━━━━━━━━━━━━━━━━━━━━━━━━━━━━\u001b[0m \u001b[32m229.9/229.9 kB\u001b[0m \u001b[31m7.2 MB/s\u001b[0m eta \u001b[36m0:00:00\u001b[0m\n",
            "\u001b[?25hDownloading six-1.17.0-py2.py3-none-any.whl (11 kB)\n",
            "Installing collected packages: six, pyparsing, packaging, kiwisolver, importlib-resources, fonttools, cycler, contourpy, python-dateutil, matplotlib\n",
            "Successfully installed contourpy-1.1.1 cycler-0.12.1 fonttools-4.57.0 importlib-resources-6.4.5 kiwisolver-1.4.7 matplotlib-3.7.5 packaging-25.0 pyparsing-3.1.4 python-dateutil-2.9.0.post0 six-1.17.0\n",
            "Looking in links: https://download.pytorch.org/whl/torch_stable.html\n",
            "Requirement already satisfied: torch==1.12.1+cpu in /usr/local/py38/lib/python3.8/site-packages (1.12.1+cpu)\n",
            "Requirement already satisfied: torchvision==0.13.1+cpu in /usr/local/py38/lib/python3.8/site-packages (0.13.1+cpu)\n",
            "Requirement already satisfied: typing-extensions in /usr/local/py38/lib/python3.8/site-packages (from torch==1.12.1+cpu) (4.13.2)\n",
            "Requirement already satisfied: numpy in /usr/local/py38/lib/python3.8/site-packages (from torchvision==0.13.1+cpu) (1.24.4)\n",
            "Requirement already satisfied: requests in /usr/local/py38/lib/python3.8/site-packages (from torchvision==0.13.1+cpu) (2.32.4)\n",
            "Requirement already satisfied: pillow!=8.3.*,>=5.3.0 in /usr/local/py38/lib/python3.8/site-packages (from torchvision==0.13.1+cpu) (10.4.0)\n",
            "Requirement already satisfied: charset_normalizer<4,>=2 in /usr/local/py38/lib/python3.8/site-packages (from requests->torchvision==0.13.1+cpu) (3.4.3)\n",
            "Requirement already satisfied: idna<4,>=2.5 in /usr/local/py38/lib/python3.8/site-packages (from requests->torchvision==0.13.1+cpu) (3.10)\n",
            "Requirement already satisfied: urllib3<3,>=1.21.1 in /usr/local/py38/lib/python3.8/site-packages (from requests->torchvision==0.13.1+cpu) (2.2.3)\n",
            "Requirement already satisfied: certifi>=2017.4.17 in /usr/local/py38/lib/python3.8/site-packages (from requests->torchvision==0.13.1+cpu) (2025.8.3)\n"
          ]
        }
      ]
    },
    {
      "cell_type": "code",
      "source": [
        "%%bash\n",
        "set -e\n",
        "mkdir -p /root/.mujoco\n",
        "cd /root/.mujoco\n",
        "# If not downloaded yet:\n",
        "[ -f mujoco210-linux-x86_64.tar.gz ] || wget -q https://mujoco.org/download/mujoco210-linux-x86_64.tar.gz\n",
        "# Extract if not already done\n",
        "[ -d mujoco210 ] || tar -xzf mujoco210-linux-x86_64.tar.gz\n",
        "# Make sure the linker can find it\n",
        "echo '/root/.mujoco/mujoco210/bin' >/etc/ld.so.conf.d/mujoco210.conf\n",
        "ldconfig"
      ],
      "metadata": {
        "colab": {
          "base_uri": "https://localhost:8080/"
        },
        "id": "OPHdYQleN5SU",
        "outputId": "11fd3477-9029-43cc-9aef-2a5fb5c951f4"
      },
      "execution_count": 7,
      "outputs": [
        {
          "output_type": "stream",
          "name": "stderr",
          "text": [
            "/sbin/ldconfig.real: /usr/local/lib/libtcm_debug.so.1 is not a symbolic link\n",
            "\n",
            "/sbin/ldconfig.real: /usr/local/lib/libhwloc.so.15 is not a symbolic link\n",
            "\n",
            "/sbin/ldconfig.real: /usr/local/lib/libtbbmalloc.so.2 is not a symbolic link\n",
            "\n",
            "/sbin/ldconfig.real: /usr/local/lib/libumf.so.0 is not a symbolic link\n",
            "\n",
            "/sbin/ldconfig.real: /usr/local/lib/libtbbbind_2_0.so.3 is not a symbolic link\n",
            "\n",
            "/sbin/ldconfig.real: /usr/local/lib/libtbbbind.so.3 is not a symbolic link\n",
            "\n",
            "/sbin/ldconfig.real: /usr/local/lib/libur_adapter_level_zero.so.0 is not a symbolic link\n",
            "\n",
            "/sbin/ldconfig.real: /usr/local/lib/libtbb.so.12 is not a symbolic link\n",
            "\n",
            "/sbin/ldconfig.real: /usr/local/lib/libur_adapter_opencl.so.0 is not a symbolic link\n",
            "\n",
            "/sbin/ldconfig.real: /usr/local/lib/libtbbbind_2_5.so.3 is not a symbolic link\n",
            "\n",
            "/sbin/ldconfig.real: /usr/local/lib/libtcm.so.1 is not a symbolic link\n",
            "\n",
            "/sbin/ldconfig.real: /usr/local/lib/libtbbmalloc_proxy.so.2 is not a symbolic link\n",
            "\n",
            "/sbin/ldconfig.real: /usr/local/lib/libur_adapter_level_zero_v2.so.0 is not a symbolic link\n",
            "\n",
            "/sbin/ldconfig.real: /usr/local/lib/libur_loader.so.0 is not a symbolic link\n",
            "\n"
          ]
        }
      ]
    },
    {
      "cell_type": "code",
      "source": [
        "%%bash\n",
        "set -e\n",
        "export MUJOCO_GL=osmesa\n",
        "export LD_LIBRARY_PATH=/root/.mujoco/mujoco210/bin:/usr/lib/x86_64-linux-gnu\n",
        "export LD_PRELOAD=/usr/lib/x86_64-linux-gnu/libOSMesa.so:/root/.mujoco/mujoco210/bin/libglewosmesa.so\n",
        "\n",
        "/usr/local/py38/bin/python - <<'PY'\n",
        "import gym, mujoco_py, numpy as np\n",
        "print(\"Gym:\", gym.__version__)\n",
        "print(\"NumPy:\", np.__version__)\n",
        "# Importing mujoco_py should compile once and succeed\n",
        "from mujoco_py import load_model_from_path\n",
        "print(\"mujoco_py import OK\")\n",
        "PY"
      ],
      "metadata": {
        "colab": {
          "base_uri": "https://localhost:8080/"
        },
        "id": "ryMc-9YXMxz3",
        "outputId": "014bef32-bcb9-4957-e855-118c232ca7e1"
      },
      "execution_count": 8,
      "outputs": [
        {
          "output_type": "stream",
          "name": "stdout",
          "text": [
            "Compiling /usr/local/py38/lib/python3.8/site-packages/mujoco_py/cymj.pyx because it changed.\n",
            "[1/1] Cythonizing /usr/local/py38/lib/python3.8/site-packages/mujoco_py/cymj.pyx\n",
            "Gym: 0.25.1\n",
            "NumPy: 1.24.4\n",
            "mujoco_py import OK\n"
          ]
        },
        {
          "output_type": "stream",
          "name": "stderr",
          "text": [
            "Gym has been unmaintained since 2022 and does not support NumPy 2.0 amongst other critical functionality.\n",
            "Please upgrade to Gymnasium, the maintained drop-in replacement of Gym, or contact the authors of your software and request that they upgrade.\n",
            "See the migration guide at https://gymnasium.farama.org/introduction/migration_guide/ for additional information.\n",
            "/usr/local/py38/lib/python3.8/site-packages/Cython/Distutils/old_build_ext.py:15: DeprecationWarning: dep_util is Deprecated. Use functions from setuptools instead.\n",
            "  from distutils.dep_util import newer, newer_group\n"
          ]
        }
      ]
    },
    {
      "cell_type": "code",
      "source": [
        "%%bash\n",
        "/usr/local/py38/bin/pip uninstall -y gym\n",
        "/usr/local/py38/bin/pip install \"gym==0.23.1\""
      ],
      "metadata": {
        "colab": {
          "base_uri": "https://localhost:8080/"
        },
        "id": "GKtVagJrPQ-c",
        "outputId": "4a96bdfe-5cff-4dc7-cc4f-86cb7192958d"
      },
      "execution_count": 9,
      "outputs": [
        {
          "output_type": "stream",
          "name": "stdout",
          "text": [
            "Found existing installation: gym 0.25.1\n",
            "Uninstalling gym-0.25.1:\n",
            "  Successfully uninstalled gym-0.25.1\n",
            "Collecting gym==0.23.1\n",
            "  Downloading gym-0.23.1.tar.gz (626 kB)\n",
            "     ━━━━━━━━━━━━━━━━━━━━━━━━━━━━━━━━━━━━━━━ 626.2/626.2 kB 6.7 MB/s eta 0:00:00\n",
            "  Installing build dependencies: started\n",
            "  Installing build dependencies: finished with status 'done'\n",
            "  Getting requirements to build wheel: started\n",
            "  Getting requirements to build wheel: finished with status 'done'\n",
            "  Preparing metadata (pyproject.toml): started\n",
            "  Preparing metadata (pyproject.toml): finished with status 'done'\n",
            "Requirement already satisfied: numpy>=1.18.0 in /usr/local/py38/lib/python3.8/site-packages (from gym==0.23.1) (1.24.4)\n",
            "Requirement already satisfied: cloudpickle>=1.2.0 in /usr/local/py38/lib/python3.8/site-packages (from gym==0.23.1) (3.1.1)\n",
            "Requirement already satisfied: gym-notices>=0.0.4 in /usr/local/py38/lib/python3.8/site-packages (from gym==0.23.1) (0.1.0)\n",
            "Requirement already satisfied: importlib-metadata>=4.10.0 in /usr/local/py38/lib/python3.8/site-packages (from gym==0.23.1) (8.5.0)\n",
            "Requirement already satisfied: zipp>=3.20 in /usr/local/py38/lib/python3.8/site-packages (from importlib-metadata>=4.10.0->gym==0.23.1) (3.20.2)\n",
            "Building wheels for collected packages: gym\n",
            "  Building wheel for gym (pyproject.toml): started\n",
            "  Building wheel for gym (pyproject.toml): finished with status 'done'\n",
            "  Created wheel for gym: filename=gym-0.23.1-py3-none-any.whl size=701345 sha256=8a74d9a4da3a2226696fc1caf3703a2a116fa08bf7502a84286a57c16917186f\n",
            "  Stored in directory: /root/.cache/pip/wheels/78/28/77/b0c74e80a2a4faae0161d5c53bc4f8e436e77aedc79136ee13\n",
            "Successfully built gym\n",
            "Installing collected packages: gym\n",
            "Successfully installed gym-0.23.1\n"
          ]
        }
      ]
    },
    {
      "cell_type": "code",
      "source": [
        "%%bash\n",
        "\n",
        "# This should: make Ant-v2, step 5 steps, close, and print OK.\n",
        "export MUJOCO_GL=osmesa\n",
        "export LD_LIBRARY_PATH=/root/.mujoco/mujoco210/bin:/usr/lib/x86_64-linux-gnu\n",
        "export LD_PRELOAD=/usr/lib/x86_64-linux-gnu/libOSMesa.so:/root/.mujoco/mujoco210/bin/libglewosmesa.so\n",
        "\n",
        "/usr/local/py38/bin/python - <<'PY'\n",
        "import gym, os\n",
        "os.environ[\"MUJOCO_GL\"]=\"osmesa\"\n",
        "env = gym.make(\"Ant-v2\")\n",
        "obs = env.reset()\n",
        "for _ in range(5):\n",
        "    a = env.action_space.sample()\n",
        "    obs, rew, done, info = env.step(a)\n",
        "env.close()\n",
        "print(\"Ant-v2 step OK\")\n",
        "PY"
      ],
      "metadata": {
        "colab": {
          "base_uri": "https://localhost:8080/"
        },
        "id": "fiDOF6hgT4II",
        "outputId": "c4cdac01-26ed-4821-fe1e-bd7b22478ba1"
      },
      "execution_count": 10,
      "outputs": [
        {
          "output_type": "stream",
          "name": "stdout",
          "text": [
            "Ant-v2 step OK\n"
          ]
        },
        {
          "output_type": "stream",
          "name": "stderr",
          "text": [
            "Gym has been unmaintained since 2022 and does not support NumPy 2.0 amongst other critical functionality.\n",
            "Please upgrade to Gymnasium, the maintained drop-in replacement of Gym, or contact the authors of your software and request that they upgrade.\n",
            "See the migration guide at https://gymnasium.farama.org/introduction/migration_guide/ for additional information.\n",
            "/usr/local/py38/lib/python3.8/site-packages/gym/envs/registration.py:505: UserWarning: \u001b[33mWARN: The environment Ant-v2 is out of date. You should consider upgrading to version `v3` with the environment ID `Ant-v3`.\u001b[0m\n",
            "  logger.warn(\n",
            "/usr/local/py38/lib/python3.8/site-packages/Cython/Distutils/old_build_ext.py:15: DeprecationWarning: dep_util is Deprecated. Use functions from setuptools instead.\n",
            "  from distutils.dep_util import newer, newer_group\n"
          ]
        }
      ]
    },
    {
      "cell_type": "code",
      "source": [
        "import pickle, numpy as np, os\n",
        "\n",
        "root = \"/content/16831-F25-HW/hw1/rob831/expert_data\"\n",
        "envs = [\"Ant-v2\", \"Humanoid-v2\", \"Walker2d-v2\", \"Hopper-v2\", \"HalfCheetah-v2\"]\n",
        "\n",
        "rows = []\n",
        "for env in envs:\n",
        "    path = os.path.join(root, f\"expert_data_{env}.pkl\")\n",
        "    with open(path, \"rb\") as f:\n",
        "        data = pickle.load(f)\n",
        "\n",
        "    # data is a list of trajectory dicts; each dict has 'returns' or similar\n",
        "    # Inspect the first element's keys to be sure:\n",
        "    print(env, \"sample keys:\", data[0].keys())\n",
        "\n",
        "    # Many homework repos use key 'returns' (single float) or 'ep_returns'\n",
        "    # Let's handle common cases:\n",
        "    rets = []\n",
        "    for traj in data:\n",
        "        if \"returns\" in traj:\n",
        "            rets.append(traj[\"returns\"])\n",
        "        elif \"episode_returns\" in traj:\n",
        "            rets.append(traj[\"episode_returns\"])\n",
        "        elif \"reward\" in traj:         # fallback if it's a list of per-step rewards\n",
        "            rets.append(sum(traj[\"reward\"]))\n",
        "        else:\n",
        "            # if no obvious key, skip or print for manual check\n",
        "            print(f\"Check keys for {env}: {traj.keys()}\")\n",
        "    rets = np.array(rets)\n",
        "    rows.append((env, rets.mean(), rets.std()))\n",
        "\n",
        "print(\"\\nLaTeX table:\")\n",
        "print(\"\\\\begin{table}[h]\")\n",
        "print(\"\\\\centering\")\n",
        "print(\"\\\\begin{tabular}{lcc}\")\n",
        "print(\"\\\\toprule\")\n",
        "print(\"Environment & Mean Return & Std. Dev. \\\\\\\\\")\n",
        "print(\"\\\\midrule\")\n",
        "for env, m, s in rows:\n",
        "    print(f\"{env} & {m:.2f} & {s:.2f} \\\\\\\\\")\n",
        "print(\"\\\\bottomrule\")\n",
        "print(\"\\\\end{tabular}\")\n",
        "print(\"\\\\caption{{Expert policy performance: mean and std of return over two trajectories.}}\")\n",
        "print(\"\\\\end{table}\")\n"
      ],
      "metadata": {
        "colab": {
          "base_uri": "https://localhost:8080/"
        },
        "id": "uSqsLD-4-ruS",
        "outputId": "8b09cf0e-2920-4339-e22c-9fe00b376dfc"
      },
      "execution_count": 16,
      "outputs": [
        {
          "output_type": "stream",
          "name": "stdout",
          "text": [
            "Ant-v2 sample keys: dict_keys(['observation', 'image_obs', 'reward', 'action', 'next_observation', 'terminal'])\n",
            "Humanoid-v2 sample keys: dict_keys(['observation', 'image_obs', 'reward', 'action', 'next_observation', 'terminal'])\n",
            "Walker2d-v2 sample keys: dict_keys(['observation', 'image_obs', 'reward', 'action', 'next_observation', 'terminal'])\n",
            "Hopper-v2 sample keys: dict_keys(['observation', 'image_obs', 'reward', 'action', 'next_observation', 'terminal'])\n",
            "HalfCheetah-v2 sample keys: dict_keys(['observation', 'image_obs', 'reward', 'action', 'next_observation', 'terminal'])\n",
            "\n",
            "LaTeX table:\n",
            "\\begin{table}[h]\n",
            "\\centering\n",
            "\\begin{tabular}{lcc}\n",
            "\\toprule\n",
            "Environment & Mean Return & Std. Dev. \\\\\n",
            "\\midrule\n",
            "Ant-v2 & 4713.65 & 12.20 \\\\\n",
            "Humanoid-v2 & 10344.53 & 20.98 \\\\\n",
            "Walker2d-v2 & 5566.85 & 9.24 \\\\\n",
            "Hopper-v2 & 3772.67 & 1.95 \\\\\n",
            "HalfCheetah-v2 & 4205.78 & 83.04 \\\\\n",
            "\\bottomrule\n",
            "\\end{tabular}\n",
            "\\caption{{Expert policy performance: mean and std of return over two trajectories.}}\n",
            "\\end{table}\n"
          ]
        }
      ]
    },
    {
      "cell_type": "markdown",
      "source": [
        "## Question 1 Part 2"
      ],
      "metadata": {
        "id": "gwOBn2Wo912m"
      }
    },
    {
      "cell_type": "code",
      "source": [
        "import pickle, numpy as np, os\n",
        "\n",
        "root = \"/content/16831-F25-HW/hw1/rob831/expert_data\"\n",
        "envs = [\"Ant-v2\", \"Humanoid-v2\", \"Walker2d-v2\", \"Hopper-v2\", \"HalfCheetah-v2\"]\n",
        "\n",
        "log_path = os.path.join(root, \"expert_summary.log\")\n",
        "with open(log_path, \"w\") as out:\n",
        "    for env in envs:\n",
        "        path = os.path.join(root, f\"expert_data_{env}.pkl\")\n",
        "        with open(path, \"rb\") as f:\n",
        "            data = pickle.load(f)\n",
        "\n",
        "        # collect returns\n",
        "        rets = []\n",
        "        for traj in data:\n",
        "            if \"returns\" in traj:\n",
        "                rets.append(traj[\"returns\"])\n",
        "            elif \"episode_returns\" in traj:\n",
        "                rets.append(traj[\"episode_returns\"])\n",
        "            elif \"reward\" in traj:\n",
        "                rets.append(sum(traj[\"reward\"]))\n",
        "        rets = np.array(rets)\n",
        "\n",
        "        # summary text\n",
        "        summary = (\n",
        "            f\"=== {env} (expert data) — Summary ===\\n\"\n",
        "            f\"MeanReturn : {rets.mean():.4f}\\n\"\n",
        "            f\"StdReturn  : {rets.std():.4f}\\n\"\n",
        "            f\"MaxReturn  : {rets.max():.4f}\\n\"\n",
        "            f\"MinReturn  : {rets.min():.4f}\\n\"\n",
        "            \"------------------------------\\n\"\n",
        "        )\n",
        "\n",
        "        # print to console and append to log\n",
        "        print(summary, end=\"\")\n",
        "        out.write(summary)\n",
        "\n",
        "print(f\"\\n[log] Full summary saved to: {log_path}\")"
      ],
      "metadata": {
        "colab": {
          "base_uri": "https://localhost:8080/"
        },
        "id": "j_499VKS-daR",
        "outputId": "ec7dc766-5f45-4f2b-f525-aff5327f50b7"
      },
      "execution_count": 13,
      "outputs": [
        {
          "output_type": "stream",
          "name": "stdout",
          "text": [
            "=== Ant-v2 (expert data) — Summary ===\n",
            "MeanReturn : 4713.6528\n",
            "StdReturn  : 12.1978\n",
            "MaxReturn  : 4725.8506\n",
            "MinReturn  : 4701.4551\n",
            "------------------------------\n",
            "=== Humanoid-v2 (expert data) — Summary ===\n",
            "MeanReturn : 10344.5254\n",
            "StdReturn  : 20.9761\n",
            "MaxReturn  : 10365.5020\n",
            "MinReturn  : 10323.5498\n",
            "------------------------------\n",
            "=== Walker2d-v2 (expert data) — Summary ===\n",
            "MeanReturn : 5566.8467\n",
            "StdReturn  : 9.2383\n",
            "MaxReturn  : 5576.0850\n",
            "MinReturn  : 5557.6084\n",
            "------------------------------\n",
            "=== Hopper-v2 (expert data) — Summary ===\n",
            "MeanReturn : 3772.6702\n",
            "StdReturn  : 1.9470\n",
            "MaxReturn  : 3774.6172\n",
            "MinReturn  : 3770.7231\n",
            "------------------------------\n",
            "=== HalfCheetah-v2 (expert data) — Summary ===\n",
            "MeanReturn : 4205.7773\n",
            "StdReturn  : 83.0378\n",
            "MaxReturn  : 4288.8154\n",
            "MinReturn  : 4122.7397\n",
            "------------------------------\n",
            "\n",
            "[log] Full summary saved to: /content/16831-F25-HW/hw1/rob831/expert_data/expert_summary.log\n"
          ]
        }
      ]
    },
    {
      "cell_type": "markdown",
      "source": [
        "## Question 1 Part 3"
      ],
      "metadata": {
        "id": "uFT_S8QZ-Abr"
      }
    },
    {
      "cell_type": "code",
      "source": [
        "%%bash\n",
        "cd /content/16831-F25-HW/hw1\n",
        "\n",
        "# ensure Python can import the rob831 package\n",
        "touch rob831/__init__.py rob831/infrastructure/__init__.py rob831/scripts/__init__.py\n",
        "export PYTHONPATH=.\n",
        "\n",
        "# stable headless Mujoco (no noisy LD_PRELOAD)\n",
        "export MUJOCO_GL=osmesa\n",
        "unset LD_PRELOAD\n",
        "export LD_LIBRARY_PATH=/root/.mujoco/mujoco210/bin:/usr/lib/x86_64-linux-gnu\n",
        "\n",
        "# Run BC for Ant-v2.  --video_log_freq -1 disables large video files.\n",
        "# n_iter must be 1 for plain BC (q1_)\n",
        "/usr/local/py38/bin/python rob831/scripts/run_hw1.py \\\n",
        "  --expert_policy_file rob831/policies/experts/Ant.pkl \\\n",
        "  --expert_data rob831/expert_data/expert_data_Ant-v2.pkl \\\n",
        "  --env_name Ant-v2 \\\n",
        "  --exp_name bc_ant \\\n",
        "  --n_iter 1 \\\n",
        "  --n_layers 5 \\\n",
        "  --learning_rate 4e-3 \\\n",
        "  --eval_batch_size 5000 \\\n",
        "  --video_log_freq -1 \\\n",
        "  --no_gpu"
      ],
      "metadata": {
        "colab": {
          "base_uri": "https://localhost:8080/"
        },
        "id": "W01WfEtsPUdV",
        "outputId": "b4436bce-a135-4fff-eff9-56fd815beb4c"
      },
      "execution_count": 53,
      "outputs": [
        {
          "output_type": "stream",
          "name": "stdout",
          "text": [
            "########################\n",
            "logging outputs to  /content/16831-F25-HW/hw1/rob831/scripts/../../data/q1_bc_ant_Ant-v2_19-09-2025_18-29-48\n",
            "########################\n",
            "GPU not detected. Defaulting to CPU.\n",
            "Loading expert policy from... rob831/policies/experts/Ant.pkl\n",
            "obs (1, 111) (1, 111)\n",
            "Done restoring expert policy...\n",
            "\n",
            "\n",
            "********** Iteration 0 ************\n",
            "\n",
            "Loading expert data from rob831/expert_data/expert_data_Ant-v2.pkl...\n",
            "\n",
            "Training agent using sampled data from replay buffer...\n",
            "\n",
            "Beginning logging procedure...\n",
            "\n",
            "Collecting data for eval...\n",
            "Eval_AverageReturn : 4601.8125\n",
            "Eval_StdReturn : 126.97118377685547\n",
            "Eval_MaxReturn : 4722.7880859375\n",
            "Eval_MinReturn : 4379.6083984375\n",
            "Eval_AverageEpLen : 1000.0\n",
            "Train_AverageReturn : 4713.6533203125\n",
            "Train_StdReturn : 12.196533203125\n",
            "Train_MaxReturn : 4725.849609375\n",
            "Train_MinReturn : 4701.45654296875\n",
            "Train_AverageEpLen : 1000.0\n",
            "Train_EnvstepsSoFar : 0\n",
            "TimeSinceStart : 6.969757080078125\n",
            "Training Loss : 0.0015974269481375813\n",
            "Initial_DataCollection_AverageReturn : 4713.6533203125\n",
            "Done logging...\n",
            "\n",
            "\n"
          ]
        },
        {
          "output_type": "stream",
          "name": "stderr",
          "text": [
            "Gym has been unmaintained since 2022 and does not support NumPy 2.0 amongst other critical functionality.\n",
            "Please upgrade to Gymnasium, the maintained drop-in replacement of Gym, or contact the authors of your software and request that they upgrade.\n",
            "See the migration guide at https://gymnasium.farama.org/introduction/migration_guide/ for additional information.\n",
            "/usr/local/py38/lib/python3.8/site-packages/gym/envs/registration.py:505: UserWarning: \u001b[33mWARN: The environment Ant-v2 is out of date. You should consider upgrading to version `v3` with the environment ID `Ant-v3`.\u001b[0m\n",
            "  logger.warn(\n",
            "/usr/local/py38/lib/python3.8/site-packages/Cython/Distutils/old_build_ext.py:15: DeprecationWarning: dep_util is Deprecated. Use functions from setuptools instead.\n",
            "  from distutils.dep_util import newer, newer_group\n"
          ]
        }
      ]
    },
    {
      "cell_type": "code",
      "source": [
        "%%bash\n",
        "# Quiet, resilient run that writes full logs to a file and prints a short summary\n",
        "set -e\n",
        "cd /content/16831-F25-HW/hw1\n",
        "\n",
        "# ensure package imports work\n",
        "touch rob831/__init__.py rob831/infrastructure/__init__.py rob831/scripts/__init__.py\n",
        "export PYTHONPATH=.\n",
        "\n",
        "# stable headless GL (no noisy LD_PRELOAD)\n",
        "export MUJOCO_GL=osmesa\n",
        "unset LD_PRELOAD\n",
        "export LD_LIBRARY_PATH=/root/.mujoco/mujoco210/bin:/usr/lib/x86_64-linux-gnu\n",
        "\n",
        "# hush Python warnings in the notebook (full logs still saved)\n",
        "export PYTHONWARNINGS=ignore\n",
        "export TF_CPP_MIN_LOG_LEVEL=3\n",
        "\n",
        "LOG=\"data/p4_ant_test_console.log\"\n",
        "mkdir -p data\n",
        "\n",
        "# Run and capture ALL output to the log; don't spam the notebook\n",
        "# Allow exit 134 (mujoco-py teardown) without failing the cell\n",
        "EXIT=0\n",
        "/usr/local/py38/bin/python -W ignore rob831/scripts/run_hw1.py \\\n",
        "  --expert_policy_file rob831/policies/experts/Ant.pkl \\\n",
        "  --expert_data rob831/expert_data/expert_data_Ant-v2.pkl \\\n",
        "  --env_name Ant-v2 \\\n",
        "  --exp_name p4_ant_test \\\n",
        "  --n_iter 1 \\\n",
        "  --learning_rate 4e-3 \\\n",
        "  --n_layers 5 \\\n",
        "  --eval_batch_size 5000 \\\n",
        "  --video_log_freq -1 \\\n",
        "  --no_gpu > \"$LOG\" 2>&1 || EXIT=$?\n",
        "\n",
        "# Minimal, readable summary\n",
        "echo \"=== Ant-v2 (p4_ant_test) — Summary ===\"\n",
        "grep -E \\\n",
        " '^(Eval|Train)_(AverageReturn|StdReturn|MaxReturn|MinReturn)|^Training Loss|^TimeSinceStart|^Initial_DataCollection_AverageReturn' \\\n",
        " \"$LOG\" || true\n",
        "\n",
        "# Mention (but ignore) the common teardown signal\n",
        "if [ \"$EXIT\" -eq 134 ]; then\n",
        "  echo \"[info] Ignored exit 134 (mujoco-py GL teardown after successful run).\"\n",
        "elif [ \"$EXIT\" -ne 0 ]; then\n",
        "  echo \"[warn] Process exited with code $EXIT — see full log at: $LOG\"\n",
        "fi\n",
        "\n",
        "echo \"[log] Full console saved to: $LOG\""
      ],
      "metadata": {
        "colab": {
          "base_uri": "https://localhost:8080/"
        },
        "id": "rzRWVUmjxDOV",
        "outputId": "5b949e64-9bf5-4cfd-d5c5-e5aa0472b704"
      },
      "execution_count": 51,
      "outputs": [
        {
          "output_type": "stream",
          "name": "stdout",
          "text": [
            "=== Ant-v2 (p4_ant_test) — Summary ===\n",
            "Eval_AverageReturn : 4601.8125\n",
            "Eval_StdReturn : 126.97118377685547\n",
            "Eval_MaxReturn : 4722.7880859375\n",
            "Eval_MinReturn : 4379.6083984375\n",
            "Train_AverageReturn : 4713.6533203125\n",
            "Train_StdReturn : 12.196533203125\n",
            "Train_MaxReturn : 4725.849609375\n",
            "Train_MinReturn : 4701.45654296875\n",
            "TimeSinceStart : 6.7479331493377686\n",
            "Training Loss : 0.0015974269481375813\n",
            "Initial_DataCollection_AverageReturn : 4713.6533203125\n",
            "[log] Full console saved to: data/p4_ant_test_console.log\n"
          ]
        }
      ]
    },
    {
      "cell_type": "code",
      "source": [
        "%%bash\n",
        "# Clean, quiet run for Humanoid-v2 BC\n",
        "\n",
        "set -e\n",
        "cd /content/16831-F25-HW/hw1\n",
        "\n",
        "# Ensure package imports work\n",
        "touch rob831/__init__.py rob831/infrastructure/__init__.py rob831/scripts/__init__.py\n",
        "export PYTHONPATH=.\n",
        "\n",
        "# Stable headless GL\n",
        "export MUJOCO_GL=osmesa\n",
        "unset LD_PRELOAD\n",
        "export LD_LIBRARY_PATH=/root/.mujoco/mujoco210/bin:/usr/lib/x86_64-linux-gnu\n",
        "\n",
        "# Reduce Python warnings in notebook\n",
        "export PYTHONWARNINGS=ignore\n",
        "export TF_CPP_MIN_LOG_LEVEL=3\n",
        "\n",
        "LOG=\"data/bc_humanoid_console.log\"\n",
        "mkdir -p data\n",
        "\n",
        "EXIT=0\n",
        "/usr/local/py38/bin/python -W ignore rob831/scripts/run_hw1.py \\\n",
        "  --expert_policy_file rob831/policies/experts/Humanoid.pkl \\\n",
        "  --expert_data rob831/expert_data/expert_data_Humanoid-v2.pkl \\\n",
        "  --env_name Humanoid-v2 \\\n",
        "  --exp_name bc_humanoid \\\n",
        "  --n_iter 1 \\\n",
        "  --learning_rate 4e-3 \\\n",
        "  --n_layers 5 \\\n",
        "  --eval_batch_size 5000 \\\n",
        "  --video_log_freq -1 \\\n",
        "  --no_gpu > \"$LOG\" 2>&1 || EXIT=$?\n",
        "\n",
        "echo \"=== Humanoid-v2 (bc_humanoid) — Summary ===\"\n",
        "grep -E \\\n",
        " '^(Eval|Train)_(AverageReturn|StdReturn|MaxReturn|MinReturn)|^Training Loss|^TimeSinceStart|^Initial_DataCollection_AverageReturn' \\\n",
        " \"$LOG\" || true\n",
        "\n",
        "if [ \"$EXIT\" -eq 134 ]; then\n",
        "  echo \"[info] Ignored exit 134 (mujoco-py teardown after successful run).\"\n",
        "elif [ \"$EXIT\" -ne 0 ]; then\n",
        "  echo \"[warn] Process exited with code $EXIT — see full log at: $LOG\"\n",
        "fi\n",
        "\n",
        "echo \"[log] Full console saved to: $LOG\""
      ],
      "metadata": {
        "colab": {
          "base_uri": "https://localhost:8080/"
        },
        "id": "GsxHutxVxY8d",
        "outputId": "1c6b8b34-b769-40e1-df82-48675b50c742"
      },
      "execution_count": 52,
      "outputs": [
        {
          "output_type": "stream",
          "name": "stdout",
          "text": [
            "=== Humanoid-v2 (bc_humanoid) — Summary ===\n",
            "Eval_AverageReturn : 254.61276245117188\n",
            "Eval_StdReturn : 17.42626953125\n",
            "Eval_MaxReturn : 354.841552734375\n",
            "Eval_MinReturn : 232.15985107421875\n",
            "Train_AverageReturn : 10344.517578125\n",
            "Train_StdReturn : 20.9814453125\n",
            "Train_MaxReturn : 10365.4990234375\n",
            "Train_MinReturn : 10323.5361328125\n",
            "TimeSinceStart : 11.171480655670166\n",
            "Training Loss : 0.11885496973991394\n",
            "Initial_DataCollection_AverageReturn : 10344.517578125\n",
            "[log] Full console saved to: data/bc_humanoid_console.log\n"
          ]
        }
      ]
    },
    {
      "cell_type": "markdown",
      "source": [
        "## Question 1 Part 4"
      ],
      "metadata": {
        "id": "NQlfFdM4_RGE"
      }
    },
    {
      "cell_type": "code",
      "source": [
        "%%bash\n",
        "# Clean multi-run loop for Ant-v2 with concise summaries per step\n",
        "\n",
        "set +e  # allow the loop to continue even if a run exits non-zero\n",
        "\n",
        "cd /content/16831-F25-HW/hw1\n",
        "\n",
        "# Ensure package visibility\n",
        "touch rob831/__init__.py rob831/infrastructure/__init__.py rob831/scripts/__init__.py\n",
        "export PYTHONPATH=.\n",
        "\n",
        "# Stable headless GL (avoid double-free issues)\n",
        "export MUJOCO_GL=osmesa\n",
        "unset LD_PRELOAD\n",
        "export LD_LIBRARY_PATH=/root/.mujoco/mujoco210/bin:/usr/lib/x86_64-linux-gnu\n",
        "\n",
        "mkdir -p data/logs\n",
        "\n",
        "for steps in 250 500 1000 2000 3000 4000; do\n",
        "  LOG=\"data/logs/p4_ant_steps_${steps}.log\"\n",
        "  echo \"=== Training Ant-v2 with ${steps} steps ===\"\n",
        "  /usr/local/py38/bin/python -W ignore rob831/scripts/run_hw1.py \\\n",
        "      --expert_policy_file rob831/policies/experts/Ant.pkl \\\n",
        "      --expert_data rob831/expert_data/expert_data_Ant-v2.pkl \\\n",
        "      --env_name Ant-v2 \\\n",
        "      --exp_name p4_ant_steps_${steps} \\\n",
        "      --n_iter 1 \\\n",
        "      --num_agent_train_steps_per_iter ${steps} \\\n",
        "      --learning_rate 4e-3 \\\n",
        "      --n_layers 5 \\\n",
        "      --eval_batch_size 5000 \\\n",
        "      --video_log_freq -1 \\\n",
        "      --no_gpu > \"$LOG\" 2>&1\n",
        "  status=$?\n",
        "\n",
        "  # concise summary\n",
        "  grep -E '^(Eval|Train)_(AverageReturn|StdReturn|MaxReturn|MinReturn)|^Training Loss|^TimeSinceStart|^Initial_DataCollection_AverageReturn' \"$LOG\" || true\n",
        "\n",
        "  if [ \"$status\" -eq 134 ]; then\n",
        "    echo \"[info] ${steps}: ignored exit 134 (mujoco-py teardown after successful run).\"\n",
        "  elif [ \"$status\" -ne 0 ]; then\n",
        "    echo \"[warn] ${steps}: process exited with code $status — see $LOG\"\n",
        "  fi\n",
        "\n",
        "  echo \"[log] full console: $LOG\"\n",
        "  echo\n",
        "done"
      ],
      "metadata": {
        "colab": {
          "base_uri": "https://localhost:8080/"
        },
        "id": "ja0msmBeyMRB",
        "outputId": "5b52ce71-d8b1-40b8-ca75-54cd962ccfe7"
      },
      "execution_count": 15,
      "outputs": [
        {
          "output_type": "stream",
          "name": "stdout",
          "text": [
            "=== Training Ant-v2 with 250 steps ===\n",
            "Eval_AverageReturn : 594.7304077148438\n",
            "Eval_StdReturn : 7.718839645385742\n",
            "Eval_MaxReturn : 607.0654907226562\n",
            "Eval_MinReturn : 583.9776611328125\n",
            "Train_AverageReturn : 4713.6533203125\n",
            "Train_StdReturn : 12.196533203125\n",
            "Train_MaxReturn : 4725.849609375\n",
            "Train_MinReturn : 4701.45654296875\n",
            "TimeSinceStart : 5.227046728134155\n",
            "Training Loss : 0.005472802557051182\n",
            "Initial_DataCollection_AverageReturn : 4713.6533203125\n",
            "[log] full console: data/logs/p4_ant_steps_250.log\n",
            "\n",
            "=== Training Ant-v2 with 500 steps ===\n",
            "Eval_AverageReturn : 2893.815673828125\n",
            "Eval_StdReturn : 1693.446533203125\n",
            "Eval_MaxReturn : 4290.7578125\n",
            "Eval_MinReturn : 807.09326171875\n",
            "Train_AverageReturn : 4713.6533203125\n",
            "Train_StdReturn : 12.196533203125\n",
            "Train_MaxReturn : 4725.849609375\n",
            "Train_MinReturn : 4701.45654296875\n",
            "TimeSinceStart : 6.344738245010376\n",
            "Training Loss : 0.0032132042106240988\n",
            "Initial_DataCollection_AverageReturn : 4713.6533203125\n",
            "[log] full console: data/logs/p4_ant_steps_500.log\n",
            "\n",
            "=== Training Ant-v2 with 1000 steps ===\n",
            "Eval_AverageReturn : 4601.8125\n",
            "Eval_StdReturn : 126.97118377685547\n",
            "Eval_MaxReturn : 4722.7880859375\n",
            "Eval_MinReturn : 4379.6083984375\n",
            "Train_AverageReturn : 4713.6533203125\n",
            "Train_StdReturn : 12.196533203125\n",
            "Train_MaxReturn : 4725.849609375\n",
            "Train_MinReturn : 4701.45654296875\n",
            "TimeSinceStart : 8.662260055541992\n",
            "Training Loss : 0.0015974269481375813\n",
            "Initial_DataCollection_AverageReturn : 4713.6533203125\n",
            "[log] full console: data/logs/p4_ant_steps_1000.log\n",
            "\n",
            "=== Training Ant-v2 with 2000 steps ===\n",
            "Eval_AverageReturn : 4576.3818359375\n",
            "Eval_StdReturn : 71.62019348144531\n",
            "Eval_MaxReturn : 4666.73388671875\n",
            "Eval_MinReturn : 4507.091796875\n",
            "Train_AverageReturn : 4713.6533203125\n",
            "Train_StdReturn : 12.196533203125\n",
            "Train_MaxReturn : 4725.849609375\n",
            "Train_MinReturn : 4701.45654296875\n",
            "TimeSinceStart : 11.9780752658844\n",
            "Training Loss : 0.0012189657427370548\n",
            "Initial_DataCollection_AverageReturn : 4713.6533203125\n",
            "[log] full console: data/logs/p4_ant_steps_2000.log\n",
            "\n",
            "=== Training Ant-v2 with 3000 steps ===\n",
            "Eval_AverageReturn : 4706.0341796875\n",
            "Eval_StdReturn : 30.551713943481445\n",
            "Eval_MaxReturn : 4760.15283203125\n",
            "Eval_MinReturn : 4677.099609375\n",
            "Train_AverageReturn : 4713.6533203125\n",
            "Train_StdReturn : 12.196533203125\n",
            "Train_MaxReturn : 4725.849609375\n",
            "Train_MinReturn : 4701.45654296875\n",
            "TimeSinceStart : 14.40234375\n",
            "Training Loss : 0.0007593699265271425\n",
            "Initial_DataCollection_AverageReturn : 4713.6533203125\n",
            "[log] full console: data/logs/p4_ant_steps_3000.log\n",
            "\n",
            "=== Training Ant-v2 with 4000 steps ===\n",
            "Eval_AverageReturn : 4771.44189453125\n",
            "Eval_StdReturn : 67.28290557861328\n",
            "Eval_MaxReturn : 4881.564453125\n",
            "Eval_MinReturn : 4697.95458984375\n",
            "Train_AverageReturn : 4713.6533203125\n",
            "Train_StdReturn : 12.196533203125\n",
            "Train_MaxReturn : 4725.849609375\n",
            "Train_MinReturn : 4701.45654296875\n",
            "TimeSinceStart : 15.379955053329468\n",
            "Training Loss : 0.0005266207735985518\n",
            "Initial_DataCollection_AverageReturn : 4713.6533203125\n",
            "[log] full console: data/logs/p4_ant_steps_4000.log\n",
            "\n"
          ]
        }
      ]
    },
    {
      "cell_type": "code",
      "source": [
        "import re, glob, os\n",
        "import matplotlib.pyplot as plt\n",
        "\n",
        "# Where logs actually land for this repo\n",
        "ROOT = \"/content/16831-F25-HW/hw1\"\n",
        "\n",
        "# Two patterns: (1) trainer's default run dirs (2) your loop logs\n",
        "patterns = [\n",
        "    os.path.join(ROOT, \"data\", \"q1_p4_ant_steps_*_Ant-v2_*\", \"log.txt\"),\n",
        "    os.path.join(ROOT, \"data\", \"logs\", \"p4_ant_steps_*.log\"),\n",
        "]\n",
        "\n",
        "# Regexes (robust to scientific notation)\n",
        "re_steps_from_dir = re.compile(r\"steps_(\\d+)\")\n",
        "re_steps_from_file = re.compile(r\"p4_ant_steps_(\\d+)\\.log$\")\n",
        "re_mean = re.compile(r\"Eval_AverageReturn\\s*:\\s*([+-]?\\d+(?:\\.\\d+)?(?:[eE][+-]?\\d+)?)\")\n",
        "re_std  = re.compile(r\"Eval_StdReturn\\s*:\\s*([+-]?\\d+(?:\\.\\d+)?(?:[eE][+-]?\\d+)?)\")\n",
        "\n",
        "records = {}\n",
        "for pat in patterns:\n",
        "    for log in sorted(glob.glob(pat)):\n",
        "        # figure out steps from either path style\n",
        "        m = re_steps_from_dir.search(log) or re_steps_from_file.search(log)\n",
        "        if not m:\n",
        "            continue\n",
        "        steps = int(m.group(1))\n",
        "\n",
        "        try:\n",
        "            with open(log, \"r\") as f:\n",
        "                txt = f.read()\n",
        "        except OSError:\n",
        "            continue\n",
        "\n",
        "        m_mean = re_mean.search(txt)\n",
        "        m_std  = re_std.search(txt)\n",
        "        if not (m_mean and m_std):\n",
        "            # skip logs that didn't finish printing metrics\n",
        "            continue\n",
        "\n",
        "        mean = float(m_mean.group(1))\n",
        "        std  = float(m_std.group(1))\n",
        "\n",
        "        # keep the latest seen entry for each steps value\n",
        "        records[steps] = (steps, mean, std)\n",
        "\n",
        "if not records:\n",
        "    raise RuntimeError(\"No logs found. Check that runs finished and paths are correct.\")\n",
        "\n",
        "# Make sorted lists\n",
        "steps_list = sorted(records)\n",
        "mean_list  = [records[s][1] for s in steps_list]\n",
        "std_list   = [records[s][2] for s in steps_list]\n",
        "\n",
        "# Plot\n",
        "plt.figure()\n",
        "plt.errorbar(steps_list, mean_list, fmt='-o')\n",
        "plt.xlabel(\"Number of BC training steps\")\n",
        "plt.ylabel(\"Eval Average Return\")\n",
        "plt.title(\"BC on Ant-v2: performance vs. training steps\")\n",
        "plt.grid(True, alpha=0.3)\n",
        "outpath = os.path.join(ROOT, \"data\", \"fig_p4_ant_train_steps.png\")\n",
        "plt.savefig(outpath, dpi=300, bbox_inches=\"tight\")\n",
        "plt.show()\n",
        "\n",
        "print(\"points:\", list(zip(steps_list, mean_list, std_list)))\n",
        "print(\"saved:\", outpath)"
      ],
      "metadata": {
        "colab": {
          "base_uri": "https://localhost:8080/",
          "height": 526
        },
        "id": "l7S3Ev-pludD",
        "outputId": "1a3a2b11-40ff-415d-a944-c4b8d8e4488b"
      },
      "execution_count": 102,
      "outputs": [
        {
          "output_type": "display_data",
          "data": {
            "text/plain": [
              "<Figure size 640x480 with 1 Axes>"
            ],
            "image/png": "[encoded data removed]"
          },
          "metadata": {}
        },
        {
          "output_type": "stream",
          "name": "stdout",
          "text": [
            "points: [(250, 594.7304077148438, 7.718839645385742), (500, 2893.815673828125, 1693.446533203125), (1000, 4601.8125, 126.97118377685547), (2000, 4576.3818359375, 71.62019348144531), (3000, 4706.0341796875, 30.551713943481445), (4000, 4771.44189453125, 67.28290557861328)]\n",
            "saved: /content/16831-F25-HW/hw1/data/fig_p4_ant_train_steps.png\n"
          ]
        }
      ]
    },
    {
      "cell_type": "markdown",
      "source": [
        "## Question 2 Part 2"
      ],
      "metadata": {
        "id": "TfghTk0g_aQS"
      }
    },
    {
      "cell_type": "code",
      "source": [
        "%%bash\n",
        "# DAgger on Ant-v2 and Humanoid-v2, quiet logs + harmless teardown tolerated\n",
        "set +e\n",
        "cd /content/16831-F25-HW/hw1\n",
        "\n",
        "# ensure imports\n",
        "touch rob831/__init__.py rob831/infrastructure/__init__.py rob831/scripts/__init__.py\n",
        "export PYTHONPATH=.\n",
        "\n",
        "# safe headless GL\n",
        "export MUJOCO_GL=osmesa\n",
        "unset LD_PRELOAD\n",
        "export LD_LIBRARY_PATH=/root/.mujoco/mujoco210/bin:/usr/lib/x86_64-linux-gnu\n",
        "\n",
        "mkdir -p data/logs\n",
        "\n",
        "# ---- Ant-v2 ----\n",
        "/usr/local/py38/bin/python -W ignore rob831/scripts/run_hw1.py \\\n",
        "  --expert_policy_file rob831/policies/experts/Ant.pkl \\\n",
        "  --expert_data rob831/expert_data/expert_data_Ant-v2.pkl \\\n",
        "  --env_name Ant-v2 \\\n",
        "  --exp_name dagger_ant \\\n",
        "  --n_iter 8 \\\n",
        "  --do_dagger \\\n",
        "  --n_layers 3 \\\n",
        "  --video_log_freq -1 \\\n",
        "  --no_gpu > data/logs/dagger_ant.log 2>&1 || echo \"[info] Ant run exited (likely 134); see data/logs/dagger_ant.log\"\n",
        "\n",
        "# ---- Humanoid-v2 ----\n",
        "/usr/local/py38/bin/python -W ignore rob831/scripts/run_hw1.py \\\n",
        "  --expert_policy_file rob831/policies/experts/Humanoid.pkl \\\n",
        "  --expert_data rob831/expert_data/expert_data_Humanoid-v2.pkl \\\n",
        "  --env_name Humanoid-v2 \\\n",
        "  --exp_name dagger_humanoid \\\n",
        "  --n_iter 8 \\\n",
        "  --do_dagger \\\n",
        "  --n_layers 3 \\\n",
        "  --video_log_freq -1 \\\n",
        "  --no_gpu > data/logs/dagger_humanoid.log 2>&1 || echo \"[info] Humanoid run exited (likely 134); see data/logs/dagger_humanoid.log\""
      ],
      "metadata": {
        "id": "BV_dhXlu05lX"
      },
      "execution_count": 63,
      "outputs": []
    },
    {
      "cell_type": "code",
      "source": [
        "import os, re, glob\n",
        "import numpy as np\n",
        "import matplotlib.pyplot as plt\n",
        "\n",
        "ROOT = \"/content/16831-F25-HW/hw1\"\n",
        "LOG_DAGGER_ANT = os.path.join(ROOT, \"data\", \"logs\", \"dagger_ant.log\")\n",
        "LOG_DAGGER_HUM = os.path.join(ROOT, \"data\", \"logs\", \"dagger_humanoid.log\")\n",
        "\n",
        "def parse_dagger_log(path):\n",
        "    \"\"\"Return (iters, mean, std, expert_mean) for a DAgger run.\"\"\"\n",
        "    with open(path, \"r\") as f:\n",
        "        txt = f.read()\n",
        "    # expert performance recorded at dataset collection\n",
        "    m_exp = re.search(r\"Initial_DataCollection_AverageReturn\\s*:\\s*([+-]?\\d+(?:\\.\\d+)?)\", txt)\n",
        "    expert = float(m_exp.group(1)) if m_exp else None\n",
        "\n",
        "    # collect per-iteration evals in order\n",
        "    iters, means, stds = [], [], []\n",
        "    # split by iteration header to be robust\n",
        "    blocks = re.split(r\"\\*{10,}\\s*Iteration\\s+(\\d+)\\s*\\*{10,}\", txt)\n",
        "    # blocks: [\"prefix\", iter0, block0, iter1, block1, ...]\n",
        "    for k in range(1, len(blocks), 2):\n",
        "        it = int(blocks[k])\n",
        "        body = blocks[k+1]\n",
        "        m_mean = re.search(r\"Eval_AverageReturn\\s*:\\s*([+-]?\\d+(?:\\.\\d+)?)\", body)\n",
        "        m_std  = re.search(r\"Eval_StdReturn\\s*:\\s*([+-]?\\d+(?:\\.\\d+)?)\", body)\n",
        "        if m_mean:\n",
        "            iters.append(it+1)  # plot iterations starting from 1\n",
        "            means.append(float(m_mean.group(1)))\n",
        "            stds.append(float(m_std.group(1)) if m_std else 0.0)\n",
        "    order = np.argsort(iters)\n",
        "    iters = np.array(iters)[order]\n",
        "    means = np.array(means)[order]\n",
        "    stds  = np.array(stds)[order]\n",
        "    return iters, means, stds, expert\n",
        "\n",
        "def best_bc_ant():\n",
        "    # Try cleaned loop logs first\n",
        "    pats = [\n",
        "        os.path.join(ROOT, \"data\", \"logs\", \"p4_ant_steps_*.log\"),\n",
        "        os.path.join(ROOT, \"data\", \"q1_p4_ant_steps_*_Ant-v2_*\", \"log.txt\"),\n",
        "    ]\n",
        "    best = None\n",
        "    for pat in pats:\n",
        "        for fp in glob.glob(pat):\n",
        "            with open(fp, \"r\") as f:\n",
        "                t = f.read()\n",
        "            m = re.search(r\"Eval_AverageReturn\\s*:\\s*([+-]?\\d+(?:\\.\\d+)?)\", t)\n",
        "            if m:\n",
        "                val = float(m.group(1))\n",
        "                if (best is None) or (val > best):\n",
        "                    best = val\n",
        "    return best\n",
        "\n",
        "def bc_humanoid():\n",
        "    # from the earlier clean run\n",
        "    candidates = [\n",
        "        os.path.join(ROOT, \"data\", \"bc_humanoid_console.log\"),\n",
        "        os.path.join(ROOT, \"humanoid_bc.txt\"),\n",
        "    ]\n",
        "    for fp in candidates:\n",
        "        if os.path.exists(fp):\n",
        "            with open(fp, \"r\") as f:\n",
        "                t = f.read()\n",
        "            m = re.search(r\"Eval_AverageReturn\\s*:\\s*([+-]?\\d+(?:\\.\\d+)?)\", t)\n",
        "            if m:\n",
        "                return float(m.group(1))\n",
        "    return None\n",
        "\n",
        "# Parse DAgger logs\n",
        "it_ant, mean_ant, std_ant, expert_ant = parse_dagger_log(LOG_DAGGER_ANT)\n",
        "it_hum, mean_hum, std_hum, expert_hum = parse_dagger_log(LOG_DAGGER_HUM)\n",
        "\n",
        "# Baselines\n",
        "bc_ant = best_bc_ant()\n",
        "bc_hum = bc_humanoid()\n",
        "\n",
        "# --- Plot Figure 2 (two panels) ---\n",
        "fig, axes = plt.subplots(1, 2, figsize=(12, 4), sharey=False)\n",
        "\n",
        "# Left: Ant-v2\n",
        "ax = axes[0]\n",
        "ax.errorbar(it_ant, mean_ant, yerr=std_ant, fmt='-o')\n",
        "if expert_ant is not None:\n",
        "    ax.axhline(expert_ant, linestyle='--', linewidth=1, label=\"Expert\")\n",
        "if bc_ant is not None:\n",
        "    ax.axhline(bc_ant, linestyle=':', linewidth=1, label=\"Behavioral Cloning\")\n",
        "ax.set_title(\"Ant-v2: DAgger learning curve\")\n",
        "ax.set_xlabel(\"# DAgger iterations\")\n",
        "ax.set_ylabel(\"Mean return (Eval)\")\n",
        "ax.grid(True, alpha=0.3)\n",
        "ax.legend(loc=\"lower right\")\n",
        "\n",
        "# Right: Humanoid-v2\n",
        "ax = axes[1]\n",
        "ax.errorbar(it_hum, mean_hum, yerr=std_hum, fmt='-o')\n",
        "if expert_hum is not None:\n",
        "    ax.axhline(expert_hum, linestyle='--', linewidth=1, label=\"Expert\")\n",
        "if bc_hum is not None:\n",
        "    ax.axhline(bc_hum, linestyle=':', linewidth=1, label=\"Behavioral Cloning\")\n",
        "ax.set_title(\"Humanoid-v2: DAgger learning curve\")\n",
        "ax.set_xlabel(\"# DAgger iterations\")\n",
        "ax.grid(True, alpha=0.3)\n",
        "ax.legend(loc=\"lower right\")\n",
        "\n",
        "plt.suptitle(\"Figure 2 — DAgger: iterations vs mean return (± std)\", y=1.02)\n",
        "plt.tight_layout()\n",
        "out = os.path.join(ROOT, \"data\", \"figure_2_dagger_ant_humanoid.png\")\n",
        "plt.savefig(out, dpi=300, bbox_inches=\"tight\")\n",
        "plt.show()\n",
        "\n",
        "print(\"Saved Figure 2 to:\", out)\n",
        "print(\"Ant  — expert:\", expert_ant, \"BC:\", bc_ant)\n",
        "print(\"Hum  — expert:\", expert_hum, \"BC:\", bc_hum)"
      ],
      "metadata": {
        "colab": {
          "base_uri": "https://localhost:8080/",
          "height": 420
        },
        "id": "6f99v8R718pD",
        "outputId": "64def958-0fe9-4506-d3ae-f73ab23c7e35"
      },
      "execution_count": 95,
      "outputs": [
        {
          "output_type": "display_data",
          "data": {
            "text/plain": [
              "<Figure size 1200x400 with 2 Axes>"
            ],
            "image/png": "[encoded data removed]"
          },
          "metadata": {}
        },
        {
          "output_type": "stream",
          "name": "stdout",
          "text": [
            "Saved Figure 2 to: /content/16831-F25-HW/hw1/data/figure_2_dagger_ant_humanoid.png\n",
            "Ant  — expert: 4713.6533203125 BC: 4771.44189453125\n",
            "Hum  — expert: 10344.517578125 BC: 254.61276245117188\n"
          ]
        }
      ]
    },
    {
      "cell_type": "code",
      "source": [
        "%%bash\n",
        "set -e\n",
        "\n",
        "# --- paths ---\n",
        "ROOT=/content/16831-F25-HW/hw1\n",
        "OUT=$ROOT/submit\n",
        "RUNLOGS=$OUT/run_logs\n",
        "\n",
        "# fresh bundle\n",
        "rm -rf \"$OUT\" \"$ROOT/submit.zip\"\n",
        "mkdir -p \"$RUNLOGS/BC\" \"$RUNLOGS/DAgger\"\n",
        "\n",
        "# ---------------------------\n",
        "# 1) RUN LOGS (BC + DAgger)\n",
        "# ---------------------------\n",
        "# BC (Ant-v2): include at least one full run dir (trainer-made) and the cleaned loop logs (if any)\n",
        "#   - pick your best \"steps\" directory (adjust the glob if your best is different)\n",
        "ANT_DIR=$(ls -d \"$ROOT/data\"/q1_p4_ant_steps_*_Ant-v2_* 2>/dev/null | head -n1 || true)\n",
        "if [[ -n \"$ANT_DIR\" ]]; then\n",
        "  cp -r \"$ANT_DIR\" \"$RUNLOGS/BC/\"\n",
        "fi\n",
        "\n",
        "# also include your concise per-run logs (from the cleaned loops)\n",
        "mkdir -p \"$RUNLOGS/BC/ant_logs\"\n",
        "cp -f \"$ROOT/data/logs\"/p4_ant_steps_*.log \"$RUNLOGS/BC/ant_logs/\" 2>/dev/null || true\n",
        "\n",
        "# BC (Humanoid-v2): include the clean console log if you ran it\n",
        "if [[ -f \"$ROOT/data/bc_humanoid_console.log\" ]]; then\n",
        "  mkdir -p \"$RUNLOGS/BC/humanoid_logs\"\n",
        "  cp -f \"$ROOT/data/bc_humanoid_console.log\" \"$RUNLOGS/BC/humanoid_logs/\"\n",
        "fi\n",
        "\n",
        "# DAgger (Ant/Humanoid): include the clean console logs\n",
        "mkdir -p \"$RUNLOGS/DAgger\"\n",
        "cp -f \"$ROOT/data/logs/dagger_ant.log\" \"$RUNLOGS/DAgger/\" 2>/dev/null || true\n",
        "cp -f \"$ROOT/data/logs/dagger_humanoid.log\" \"$RUNLOGS/DAgger/\" 2>/dev/null || true\n",
        "\n",
        "# Strip any videos if some runs accidentally logged them\n",
        "find \"$RUNLOGS\" -type f \\( -iname \"*.mp4\" -o -iname \"*.gif\" -o -iname \"*.avi\" \\) -delete || true\n",
        "\n",
        "# ---------------------------------\n",
        "# 2) CODE: the rob831/ source tree\n",
        "# ---------------------------------\n",
        "mkdir -p \"$OUT\"\n",
        "rsync -a --exclude=\"__pycache__\" --exclude=\"*.pyc\" --exclude=\".DS_Store\" \\\n",
        "  \"$ROOT/rob831\" \"$OUT/\"\n",
        "\n",
        "# --------------------------------------------------\n",
        "# 3) Include your figures if already generated (opt)\n",
        "# --------------------------------------------------\n",
        "mkdir -p \"$OUT/figures\"\n",
        "# Ant-v2 training steps figure from earlier (rename if yours differs)\n",
        "cp -f \"$ROOT/data/fig_p4_ant_train_steps.pdf\" \"$OUT/figures/\" 2>/dev/null || true\n",
        "# DAgger Figure 2\n",
        "cp -f \"$ROOT/data/figure_2_dagger_ant_humanoid.pdf\" \"$OUT/figures/\" 2>/dev/null || true\n",
        "\n",
        "# ------------------------------------------------\n",
        "# 4) RUN.md with exact commands + env information\n",
        "# ------------------------------------------------\n",
        "cat > \"$OUT/RUN.md\" <<'MD'\n",
        "# RUN.md — how to reproduce the submitted results\n",
        "\n",
        "## Environment (tested)\n",
        "- Python 3.8\n",
        "- gym==0.21.0\n",
        "- numpy==1.23.5\n",
        "- mujoco-py==2.1.2.14\n",
        "- glfw==2.5.5, PyOpenGL==3.1.7, Cython==0.29.36\n",
        "- Headless rendering: `MUJOCO_GL=osmesa`\n",
        "\n",
        "**Before running**, from the repo root (the folder that contains `rob831/`):\n",
        "```bash\n",
        "cd /content/16831-F25-HW/hw1\n",
        "export PYTHONPATH=.\n",
        "export MUJOCO_GL=osmesa\n",
        "unset LD_PRELOAD\n",
        "export LD_LIBRARY_PATH=/root/.mujoco/mujoco210/bin:/usr/lib/x86_64-linux-gnu"
      ],
      "metadata": {
        "colab": {
          "base_uri": "https://localhost:8080/"
        },
        "id": "D6Fcaz0d2bhC",
        "outputId": "f8968a11-25f4-41c4-a419-50a65adf1006"
      },
      "execution_count": 65,
      "outputs": [
        {
          "output_type": "stream",
          "name": "stderr",
          "text": [
            "bash: line 76: warning: here-document at line 59 delimited by end-of-file (wanted `MD')\n"
          ]
        }
      ]
    },
    {
      "cell_type": "markdown",
      "source": [
        "# For Submission"
      ],
      "metadata": {
        "id": "MlT0thj14BO-"
      }
    },
    {
      "cell_type": "code",
      "source": [
        "!git pull"
      ],
      "metadata": {
        "colab": {
          "base_uri": "https://localhost:8080/"
        },
        "id": "-BaAWq3PQIEs",
        "outputId": "e1dd7beb-7b46-40bd-e7e5-1f0332dfeb88"
      },
      "execution_count": 58,
      "outputs": [
        {
          "output_type": "stream",
          "name": "stdout",
          "text": [
            "remote: Enumerating objects: 15, done.\u001b[K\n",
            "remote: Counting objects:   6% (1/15)\u001b[K\rremote: Counting objects:  13% (2/15)\u001b[K\rremote: Counting objects:  20% (3/15)\u001b[K\rremote: Counting objects:  26% (4/15)\u001b[K\rremote: Counting objects:  33% (5/15)\u001b[K\rremote: Counting objects:  40% (6/15)\u001b[K\rremote: Counting objects:  46% (7/15)\u001b[K\rremote: Counting objects:  53% (8/15)\u001b[K\rremote: Counting objects:  60% (9/15)\u001b[K\rremote: Counting objects:  66% (10/15)\u001b[K\rremote: Counting objects:  73% (11/15)\u001b[K\rremote: Counting objects:  80% (12/15)\u001b[K\rremote: Counting objects:  86% (13/15)\u001b[K\rremote: Counting objects:  93% (14/15)\u001b[K\rremote: Counting objects: 100% (15/15)\u001b[K\rremote: Counting objects: 100% (15/15), done.\u001b[K\n",
            "remote: Compressing objects:  50% (1/2)\u001b[K\rremote: Compressing objects: 100% (2/2)\u001b[K\rremote: Compressing objects: 100% (2/2), done.\u001b[K\n",
            "remote: Total 9 (delta 7), reused 9 (delta 7), pack-reused 0 (from 0)\u001b[K\n",
            "Unpacking objects:  11% (1/9)\rUnpacking objects:  22% (2/9)\rUnpacking objects:  33% (3/9)\rUnpacking objects:  44% (4/9)\rUnpacking objects:  55% (5/9)\rUnpacking objects:  66% (6/9)\rUnpacking objects:  77% (7/9)\rUnpacking objects:  88% (8/9)\rUnpacking objects: 100% (9/9)\rUnpacking objects: 100% (9/9), 1.89 KiB | 644.00 KiB/s, done.\n",
            "From github.com:JH083/16831-F25-HW\n",
            "   883bdde..4f60fb3  master     -> origin/master\n",
            "Updating 883bdde..4f60fb3\n",
            "Fast-forward\n",
            " hw1/.DS_Store                                      | Bin \u001b[31m6148\u001b[m -> \u001b[32m8196\u001b[m bytes\n",
            " hw1/{ant_bc.txt => RUN.md}                         |   0\n",
            " .../expert_data => data}/expert_summary.log        |   0\n",
            " hw1/data/q1_bc_ant.log                             |  37 \u001b[32m+++++++++++++++++++++\u001b[m\n",
            " hw1/data/q1_bc_humanoid.log                        |  37 \u001b[32m+++++++++++++++++++++\u001b[m\n",
            " .../events.out.tfevents.1758248410.f18d2a997560    | Bin \u001b[31m785\u001b[m -> \u001b[32m0\u001b[m bytes\n",
            " .../events.out.tfevents.1758249603.f18d2a997560    | Bin \u001b[31m6196\u001b[m -> \u001b[32m0\u001b[m bytes\n",
            " .../events.out.tfevents.1758249652.f18d2a997560    | Bin \u001b[31m6196\u001b[m -> \u001b[32m0\u001b[m bytes\n",
            " hw1/p4_ant_05.log                                  |  12 \u001b[31m-------\u001b[m\n",
            " hw1/p4_ant_10.log                                  |  12 \u001b[31m-------\u001b[m\n",
            " hw1/p4_ant_100.log                                 |  12 \u001b[31m-------\u001b[m\n",
            " hw1/p4_ant_20.log                                  |  12 \u001b[31m-------\u001b[m\n",
            " hw1/p4_ant_50.log                                  |  12 \u001b[31m-------\u001b[m\n",
            " 13 files changed, 74 insertions(+), 60 deletions(-)\n",
            " rename hw1/{ant_bc.txt => RUN.md} (100%)\n",
            " rename hw1/{rob831/expert_data => data}/expert_summary.log (100%)\n",
            " create mode 100644 hw1/data/q1_bc_ant.log\n",
            " create mode 100644 hw1/data/q1_bc_humanoid.log\n",
            " delete mode 100644 hw1/data/q1_bc_humanoid_Humanoid-v2_19-09-2025_02-20-10/events.out.tfevents.1758248410.f18d2a997560\n",
            " delete mode 100644 hw1/data/q2_dagger_ant_Ant-v2_19-09-2025_02-40-03/events.out.tfevents.1758249603.f18d2a997560\n",
            " delete mode 100644 hw1/data/q2_dagger_humanoid_Humanoid-v2_19-09-2025_02-40-52/events.out.tfevents.1758249652.f18d2a997560\n",
            " delete mode 100644 hw1/p4_ant_05.log\n",
            " delete mode 100644 hw1/p4_ant_10.log\n",
            " delete mode 100644 hw1/p4_ant_100.log\n",
            " delete mode 100644 hw1/p4_ant_20.log\n",
            " delete mode 100644 hw1/p4_ant_50.log\n"
          ]
        }
      ]
    },
    {
      "cell_type": "code",
      "source": [
        "!git remote -v"
      ],
      "metadata": {
        "colab": {
          "base_uri": "https://localhost:8080/"
        },
        "id": "WO6x_r934GKM",
        "outputId": "3cc8b635-527c-40c3-f94d-fa1392c4a7b8"
      },
      "execution_count": 17,
      "outputs": [
        {
          "output_type": "stream",
          "name": "stdout",
          "text": [
            "origin\thttps://github.com/JH083/16831-F25-HW.git (fetch)\n",
            "origin\thttps://github.com/JH083/16831-F25-HW.git (push)\n"
          ]
        }
      ]
    },
    {
      "cell_type": "code",
      "source": [
        "!git add ."
      ],
      "metadata": {
        "id": "d8rDoKOZ5Rkg"
      },
      "execution_count": 59,
      "outputs": []
    },
    {
      "cell_type": "code",
      "source": [
        "!git commit -m \"run logs updated\""
      ],
      "metadata": {
        "colab": {
          "base_uri": "https://localhost:8080/"
        },
        "id": "XSmImeXR5p6M",
        "outputId": "94dfd2f0-8e52-464d-96b0-94a2087ac9cd"
      },
      "execution_count": 60,
      "outputs": [
        {
          "output_type": "stream",
          "name": "stdout",
          "text": [
            "On branch master\n",
            "Your branch is up to date with 'origin/master'.\n",
            "\n",
            "nothing to commit, working tree clean\n"
          ]
        }
      ]
    },
    {
      "cell_type": "code",
      "source": [
        "!git remote set-url origin https://github.com/JH083/16831-F25-HW.git\n"
      ],
      "metadata": {
        "id": "BHl1gtkh5vD8"
      },
      "execution_count": 61,
      "outputs": []
    },
    {
      "cell_type": "code",
      "source": [
        "!cat ~/.ssh/id_ed25519.pub"
      ],
      "metadata": {
        "colab": {
          "base_uri": "https://localhost:8080/"
        },
        "id": "b-MHax0dHJk4",
        "outputId": "d95d6152-5982-43cc-fe5e-41a3e1be5c97"
      },
      "execution_count": 47,
      "outputs": [
        {
          "output_type": "stream",
          "name": "stdout",
          "text": [
            "ssh-ed25519 AAAAC3NzaC1lZDI1NTE5AAAAIF4AHXWFqfLMyYzCe5rFQw5Lwl9FnTNx5BtK2224HEI0 colab\n"
          ]
        }
      ]
    },
    {
      "cell_type": "code",
      "source": [
        "!git push"
      ],
      "metadata": {
        "colab": {
          "base_uri": "https://localhost:8080/"
        },
        "id": "OJwq74vj5yWE",
        "outputId": "89a3ffad-afc4-48f4-c66e-eac0176da486"
      },
      "execution_count": 62,
      "outputs": [
        {
          "output_type": "stream",
          "name": "stdout",
          "text": [
            "fatal: could not read Username for 'https://github.com': No such device or address\n"
          ]
        }
      ]
    },
    {
      "cell_type": "code",
      "source": [
        "%%bash\n",
        "git remote set-url origin git@github.com:JH083/16831-F25-HW.git\n",
        "git push -u origin master   # or main if that's your branch"
      ],
      "metadata": {
        "colab": {
          "base_uri": "https://localhost:8080/",
          "height": 435
        },
        "id": "3NfJDElw6pQy",
        "outputId": "41129c5f-2b6c-4b21-b9f2-daaabc26675c"
      },
      "execution_count": 44,
      "outputs": [
        {
          "output_type": "stream",
          "name": "stderr",
          "text": [
            "Host key verification failed.\r\n",
            "fatal: Could not read from remote repository.\n",
            "\n",
            "Please make sure you have the correct access rights\n",
            "and the repository exists.\n"
          ]
        },
        {
          "output_type": "error",
          "ename": "CalledProcessError",
          "evalue": "Command 'b\"git remote set-url origin git@github.com:JH083/16831-F25-HW.git\\ngit push -u origin master   # or main if that's your branch\\n\"' returned non-zero exit status 128.",
          "traceback": [
            "\u001b[0;31m---------------------------------------------------------------------------\u001b[0m",
            "\u001b[0;31mCalledProcessError\u001b[0m                        Traceback (most recent call last)",
            "\u001b[0;32m/tmp/ipython-input-1838369588.py\u001b[0m in \u001b[0;36m<cell line: 0>\u001b[0;34m()\u001b[0m\n\u001b[0;32m----> 1\u001b[0;31m \u001b[0mget_ipython\u001b[0m\u001b[0;34m(\u001b[0m\u001b[0;34m)\u001b[0m\u001b[0;34m.\u001b[0m\u001b[0mrun_cell_magic\u001b[0m\u001b[0;34m(\u001b[0m\u001b[0;34m'bash'\u001b[0m\u001b[0;34m,\u001b[0m \u001b[0;34m''\u001b[0m\u001b[0;34m,\u001b[0m \u001b[0;34m\"git remote set-url origin git@github.com:JH083/16831-F25-HW.git\\ngit push -u origin master   # or main if that's your branch\\n\"\u001b[0m\u001b[0;34m)\u001b[0m\u001b[0;34m\u001b[0m\u001b[0;34m\u001b[0m\u001b[0m\n\u001b[0m",
            "\u001b[0;32m/usr/local/lib/python3.12/dist-packages/google/colab/_shell.py\u001b[0m in \u001b[0;36mrun_cell_magic\u001b[0;34m(self, magic_name, line, cell)\u001b[0m\n\u001b[1;32m    274\u001b[0m     \u001b[0;32mif\u001b[0m \u001b[0mline\u001b[0m \u001b[0;32mand\u001b[0m \u001b[0;32mnot\u001b[0m \u001b[0mcell\u001b[0m\u001b[0;34m:\u001b[0m\u001b[0;34m\u001b[0m\u001b[0;34m\u001b[0m\u001b[0m\n\u001b[1;32m    275\u001b[0m       \u001b[0mcell\u001b[0m \u001b[0;34m=\u001b[0m \u001b[0;34m' '\u001b[0m\u001b[0;34m\u001b[0m\u001b[0;34m\u001b[0m\u001b[0m\n\u001b[0;32m--> 276\u001b[0;31m     \u001b[0;32mreturn\u001b[0m \u001b[0msuper\u001b[0m\u001b[0;34m(\u001b[0m\u001b[0;34m)\u001b[0m\u001b[0;34m.\u001b[0m\u001b[0mrun_cell_magic\u001b[0m\u001b[0;34m(\u001b[0m\u001b[0mmagic_name\u001b[0m\u001b[0;34m,\u001b[0m \u001b[0mline\u001b[0m\u001b[0;34m,\u001b[0m \u001b[0mcell\u001b[0m\u001b[0;34m)\u001b[0m\u001b[0;34m\u001b[0m\u001b[0;34m\u001b[0m\u001b[0m\n\u001b[0m\u001b[1;32m    277\u001b[0m \u001b[0;34m\u001b[0m\u001b[0m\n\u001b[1;32m    278\u001b[0m \u001b[0;34m\u001b[0m\u001b[0m\n",
            "\u001b[0;32m/usr/local/lib/python3.12/dist-packages/IPython/core/interactiveshell.py\u001b[0m in \u001b[0;36mrun_cell_magic\u001b[0;34m(self, magic_name, line, cell)\u001b[0m\n\u001b[1;32m   2471\u001b[0m             \u001b[0;32mwith\u001b[0m \u001b[0mself\u001b[0m\u001b[0;34m.\u001b[0m\u001b[0mbuiltin_trap\u001b[0m\u001b[0;34m:\u001b[0m\u001b[0;34m\u001b[0m\u001b[0;34m\u001b[0m\u001b[0m\n\u001b[1;32m   2472\u001b[0m                 \u001b[0margs\u001b[0m \u001b[0;34m=\u001b[0m \u001b[0;34m(\u001b[0m\u001b[0mmagic_arg_s\u001b[0m\u001b[0;34m,\u001b[0m \u001b[0mcell\u001b[0m\u001b[0;34m)\u001b[0m\u001b[0;34m\u001b[0m\u001b[0;34m\u001b[0m\u001b[0m\n\u001b[0;32m-> 2473\u001b[0;31m                 \u001b[0mresult\u001b[0m \u001b[0;34m=\u001b[0m \u001b[0mfn\u001b[0m\u001b[0;34m(\u001b[0m\u001b[0;34m*\u001b[0m\u001b[0margs\u001b[0m\u001b[0;34m,\u001b[0m \u001b[0;34m**\u001b[0m\u001b[0mkwargs\u001b[0m\u001b[0;34m)\u001b[0m\u001b[0;34m\u001b[0m\u001b[0;34m\u001b[0m\u001b[0m\n\u001b[0m\u001b[1;32m   2474\u001b[0m             \u001b[0;32mreturn\u001b[0m \u001b[0mresult\u001b[0m\u001b[0;34m\u001b[0m\u001b[0;34m\u001b[0m\u001b[0m\n\u001b[1;32m   2475\u001b[0m \u001b[0;34m\u001b[0m\u001b[0m\n",
            "\u001b[0;32m/usr/local/lib/python3.12/dist-packages/IPython/core/magics/script.py\u001b[0m in \u001b[0;36mnamed_script_magic\u001b[0;34m(line, cell)\u001b[0m\n\u001b[1;32m    140\u001b[0m             \u001b[0;32melse\u001b[0m\u001b[0;34m:\u001b[0m\u001b[0;34m\u001b[0m\u001b[0;34m\u001b[0m\u001b[0m\n\u001b[1;32m    141\u001b[0m                 \u001b[0mline\u001b[0m \u001b[0;34m=\u001b[0m \u001b[0mscript\u001b[0m\u001b[0;34m\u001b[0m\u001b[0;34m\u001b[0m\u001b[0m\n\u001b[0;32m--> 142\u001b[0;31m             \u001b[0;32mreturn\u001b[0m \u001b[0mself\u001b[0m\u001b[0;34m.\u001b[0m\u001b[0mshebang\u001b[0m\u001b[0;34m(\u001b[0m\u001b[0mline\u001b[0m\u001b[0;34m,\u001b[0m \u001b[0mcell\u001b[0m\u001b[0;34m)\u001b[0m\u001b[0;34m\u001b[0m\u001b[0;34m\u001b[0m\u001b[0m\n\u001b[0m\u001b[1;32m    143\u001b[0m \u001b[0;34m\u001b[0m\u001b[0m\n\u001b[1;32m    144\u001b[0m         \u001b[0;31m# write a basic docstring:\u001b[0m\u001b[0;34m\u001b[0m\u001b[0;34m\u001b[0m\u001b[0m\n",
            "\u001b[0;32m<decorator-gen-103>\u001b[0m in \u001b[0;36mshebang\u001b[0;34m(self, line, cell)\u001b[0m\n",
            "\u001b[0;32m/usr/local/lib/python3.12/dist-packages/IPython/core/magic.py\u001b[0m in \u001b[0;36m<lambda>\u001b[0;34m(f, *a, **k)\u001b[0m\n\u001b[1;32m    185\u001b[0m     \u001b[0;31m# but it's overkill for just that one bit of state.\u001b[0m\u001b[0;34m\u001b[0m\u001b[0;34m\u001b[0m\u001b[0m\n\u001b[1;32m    186\u001b[0m     \u001b[0;32mdef\u001b[0m \u001b[0mmagic_deco\u001b[0m\u001b[0;34m(\u001b[0m\u001b[0marg\u001b[0m\u001b[0;34m)\u001b[0m\u001b[0;34m:\u001b[0m\u001b[0;34m\u001b[0m\u001b[0;34m\u001b[0m\u001b[0m\n\u001b[0;32m--> 187\u001b[0;31m         \u001b[0mcall\u001b[0m \u001b[0;34m=\u001b[0m \u001b[0;32mlambda\u001b[0m \u001b[0mf\u001b[0m\u001b[0;34m,\u001b[0m \u001b[0;34m*\u001b[0m\u001b[0ma\u001b[0m\u001b[0;34m,\u001b[0m \u001b[0;34m**\u001b[0m\u001b[0mk\u001b[0m\u001b[0;34m:\u001b[0m \u001b[0mf\u001b[0m\u001b[0;34m(\u001b[0m\u001b[0;34m*\u001b[0m\u001b[0ma\u001b[0m\u001b[0;34m,\u001b[0m \u001b[0;34m**\u001b[0m\u001b[0mk\u001b[0m\u001b[0;34m)\u001b[0m\u001b[0;34m\u001b[0m\u001b[0;34m\u001b[0m\u001b[0m\n\u001b[0m\u001b[1;32m    188\u001b[0m \u001b[0;34m\u001b[0m\u001b[0m\n\u001b[1;32m    189\u001b[0m         \u001b[0;32mif\u001b[0m \u001b[0mcallable\u001b[0m\u001b[0;34m(\u001b[0m\u001b[0marg\u001b[0m\u001b[0;34m)\u001b[0m\u001b[0;34m:\u001b[0m\u001b[0;34m\u001b[0m\u001b[0;34m\u001b[0m\u001b[0m\n",
            "\u001b[0;32m/usr/local/lib/python3.12/dist-packages/IPython/core/magics/script.py\u001b[0m in \u001b[0;36mshebang\u001b[0;34m(self, line, cell)\u001b[0m\n\u001b[1;32m    243\u001b[0m             \u001b[0msys\u001b[0m\u001b[0;34m.\u001b[0m\u001b[0mstderr\u001b[0m\u001b[0;34m.\u001b[0m\u001b[0mflush\u001b[0m\u001b[0;34m(\u001b[0m\u001b[0;34m)\u001b[0m\u001b[0;34m\u001b[0m\u001b[0;34m\u001b[0m\u001b[0m\n\u001b[1;32m    244\u001b[0m         \u001b[0;32mif\u001b[0m \u001b[0margs\u001b[0m\u001b[0;34m.\u001b[0m\u001b[0mraise_error\u001b[0m \u001b[0;32mand\u001b[0m \u001b[0mp\u001b[0m\u001b[0;34m.\u001b[0m\u001b[0mreturncode\u001b[0m\u001b[0;34m!=\u001b[0m\u001b[0;36m0\u001b[0m\u001b[0;34m:\u001b[0m\u001b[0;34m\u001b[0m\u001b[0;34m\u001b[0m\u001b[0m\n\u001b[0;32m--> 245\u001b[0;31m             \u001b[0;32mraise\u001b[0m \u001b[0mCalledProcessError\u001b[0m\u001b[0;34m(\u001b[0m\u001b[0mp\u001b[0m\u001b[0;34m.\u001b[0m\u001b[0mreturncode\u001b[0m\u001b[0;34m,\u001b[0m \u001b[0mcell\u001b[0m\u001b[0;34m,\u001b[0m \u001b[0moutput\u001b[0m\u001b[0;34m=\u001b[0m\u001b[0mout\u001b[0m\u001b[0;34m,\u001b[0m \u001b[0mstderr\u001b[0m\u001b[0;34m=\u001b[0m\u001b[0merr\u001b[0m\u001b[0;34m)\u001b[0m\u001b[0;34m\u001b[0m\u001b[0;34m\u001b[0m\u001b[0m\n\u001b[0m\u001b[1;32m    246\u001b[0m \u001b[0;34m\u001b[0m\u001b[0m\n\u001b[1;32m    247\u001b[0m     \u001b[0;32mdef\u001b[0m \u001b[0m_run_script\u001b[0m\u001b[0;34m(\u001b[0m\u001b[0mself\u001b[0m\u001b[0;34m,\u001b[0m \u001b[0mp\u001b[0m\u001b[0;34m,\u001b[0m \u001b[0mcell\u001b[0m\u001b[0;34m,\u001b[0m \u001b[0mto_close\u001b[0m\u001b[0;34m)\u001b[0m\u001b[0;34m:\u001b[0m\u001b[0;34m\u001b[0m\u001b[0;34m\u001b[0m\u001b[0m\n",
            "\u001b[0;31mCalledProcessError\u001b[0m: Command 'b\"git remote set-url origin git@github.com:JH083/16831-F25-HW.git\\ngit push -u origin master   # or main if that's your branch\\n\"' returned non-zero exit status 128."
          ]
        }
      ]
    },
    {
      "cell_type": "code",
      "source": [
        "!ssh -T git@github.com"
      ],
      "metadata": {
        "colab": {
          "base_uri": "https://localhost:8080/"
        },
        "id": "PxsJm_S57rVC",
        "outputId": "e5e2d274-68fa-4bc1-d5a6-8729e1f7f4cf"
      },
      "execution_count": 63,
      "outputs": [
        {
          "output_type": "stream",
          "name": "stdout",
          "text": [
            "Hi JH083! You've successfully authenticated, but GitHub does not provide shell access.\n"
          ]
        }
      ]
    },
    {
      "cell_type": "code",
      "source": [
        "!git pull"
      ],
      "metadata": {
        "colab": {
          "base_uri": "https://localhost:8080/"
        },
        "id": "orr7sOnFDtCl",
        "outputId": "be1f6de5-b250-4565-e6c9-aa9a05ae362f"
      },
      "execution_count": 64,
      "outputs": [
        {
          "output_type": "stream",
          "name": "stdout",
          "text": [
            "Already up to date.\n"
          ]
        }
      ]
    },
    {
      "cell_type": "code",
      "source": [
        "%%bash\n",
        "set -e\n",
        "\n",
        "# 1) Make sure the key exists and permissions are correct\n",
        "mkdir -p ~/.ssh\n",
        "chmod 700 ~/.ssh\n",
        "[[ -f ~/.ssh/id_ed25519 ]] || { echo \"[err] No ~/.ssh/id_ed25519 found. Generate one first.\"; exit 1; }\n",
        "chmod 600 ~/.ssh/id_ed25519\n",
        "[[ -f ~/.ssh/id_ed25519.pub ]] || { echo \"[err] No ~/.ssh/id_ed25519.pub found.\"; exit 1; }\n",
        "\n",
        "# 2) Start agent and add the key\n",
        "eval \"$(ssh-agent -s)\" >/dev/null\n",
        "ssh-add -D >/dev/null 2>&1 || true\n",
        "ssh-add ~/.ssh/id_ed25519\n",
        "\n",
        "# 3) Ensure GitHub host key is trusted (avoid verification prompt)\n",
        "ssh-keygen -R github.com >/dev/null 2>&1 || true\n",
        "ssh-keyscan -H github.com >> ~/.ssh/known_hosts 2>/dev/null\n",
        "chmod 644 ~/.ssh/known_hosts\n",
        "\n",
        "# 4) Create a minimal SSH config to force this identity and (optionally) port 443 fallback\n",
        "cat > ~/.ssh/config <<'CFG'\n",
        "Host github.com\n",
        "  Hostname github.com\n",
        "  User git\n",
        "  IdentityFile ~/.ssh/id_ed25519\n",
        "  IdentitiesOnly yes\n",
        "CFG\n",
        "chmod 600 ~/.ssh/config\n",
        "\n",
        "# 5) Quick verbose test (won't succeed if key not on your GitHub yet)\n",
        "ssh -T -v git@github.com || true"
      ],
      "metadata": {
        "colab": {
          "base_uri": "https://localhost:8080/"
        },
        "id": "b4kdK07PFnMj",
        "outputId": "479daf80-556b-4e19-949f-b5b4911cbc46"
      },
      "execution_count": 48,
      "outputs": [
        {
          "output_type": "stream",
          "name": "stderr",
          "text": [
            "Identity added: /root/.ssh/id_ed25519 (colab)\n",
            "OpenSSH_8.9p1 Ubuntu-3ubuntu0.13, OpenSSL 3.0.2 15 Mar 2022\r\n",
            "debug1: Reading configuration data /root/.ssh/config\r\n",
            "debug1: /root/.ssh/config line 1: Applying options for github.com\r\n",
            "debug1: Reading configuration data /etc/ssh/ssh_config\r\n",
            "debug1: /etc/ssh/ssh_config line 19: include /etc/ssh/ssh_config.d/*.conf matched no files\r\n",
            "debug1: /etc/ssh/ssh_config line 21: Applying options for *\r\n",
            "debug1: Connecting to github.com [140.82.113.3] port 22.\r\n",
            "debug1: Connection established.\r\n",
            "debug1: identity file /root/.ssh/id_ed25519 type 3\r\n",
            "debug1: identity file /root/.ssh/id_ed25519-cert type -1\r\n",
            "debug1: Local version string SSH-2.0-OpenSSH_8.9p1 Ubuntu-3ubuntu0.13\r\n",
            "debug1: Remote protocol version 2.0, remote software version cb24e083\r\n",
            "debug1: compat_banner: no match: cb24e083\r\n",
            "debug1: Authenticating to github.com:22 as 'git'\r\n",
            "debug1: load_hostkeys: fopen /root/.ssh/known_hosts2: No such file or directory\r\n",
            "debug1: load_hostkeys: fopen /etc/ssh/ssh_known_hosts: No such file or directory\r\n",
            "debug1: load_hostkeys: fopen /etc/ssh/ssh_known_hosts2: No such file or directory\r\n",
            "debug1: SSH2_MSG_KEXINIT sent\r\n",
            "debug1: SSH2_MSG_KEXINIT received\r\n",
            "debug1: kex: algorithm: curve25519-sha256\r\n",
            "debug1: kex: host key algorithm: ssh-ed25519\r\n",
            "debug1: kex: server->client cipher: chacha20-poly1305@openssh.com MAC: <implicit> compression: none\r\n",
            "debug1: kex: client->server cipher: chacha20-poly1305@openssh.com MAC: <implicit> compression: none\r\n",
            "debug1: expecting SSH2_MSG_KEX_ECDH_REPLY\r\n",
            "debug1: SSH2_MSG_KEX_ECDH_REPLY received\r\n",
            "debug1: Server host key: ssh-ed25519 SHA256:+DiY3wvvV6TuJJhbpZisF/zLDA0zPMSvHdkr4UvCOqU\r\n",
            "debug1: load_hostkeys: fopen /root/.ssh/known_hosts2: No such file or directory\r\n",
            "debug1: load_hostkeys: fopen /etc/ssh/ssh_known_hosts: No such file or directory\r\n",
            "debug1: load_hostkeys: fopen /etc/ssh/ssh_known_hosts2: No such file or directory\r\n",
            "debug1: Host 'github.com' is known and matches the ED25519 host key.\r\n",
            "debug1: Found key in /root/.ssh/known_hosts:3\r\n",
            "debug1: ssh_packet_send2_wrapped: resetting send seqnr 3\r\n",
            "debug1: rekey out after 134217728 blocks\r\n",
            "debug1: SSH2_MSG_NEWKEYS sent\r\n",
            "debug1: expecting SSH2_MSG_NEWKEYS\r\n",
            "debug1: ssh_packet_read_poll2: resetting read seqnr 3\r\n",
            "debug1: SSH2_MSG_NEWKEYS received\r\n",
            "debug1: rekey in after 134217728 blocks\r\n",
            "debug1: get_agent_identities: bound agent to hostkey\r\n",
            "debug1: get_agent_identities: agent returned 1 keys\r\n",
            "debug1: Will attempt key: /root/.ssh/id_ed25519 ED25519 SHA256:5L5KIiE1OBGX+8pPcbRUETMw3xeqHUR6ritAvf+U+hY explicit agent\r\n",
            "debug1: SSH2_MSG_EXT_INFO received\r\n",
            "debug1: kex_input_ext_info: server-sig-algs=<ssh-ed25519-cert-v01@openssh.com,ecdsa-sha2-nistp521-cert-v01@openssh.com,ecdsa-sha2-nistp384-cert-v01@openssh.com,ecdsa-sha2-nistp256-cert-v01@openssh.com,sk-ssh-ed25519-cert-v01@openssh.com,sk-ecdsa-sha2-nistp256-cert-v01@openssh.com,rsa-sha2-512-cert-v01@openssh.com,rsa-sha2-256-cert-v01@openssh.com,ssh-rsa-cert-v01@openssh.com,sk-ssh-ed25519@openssh.com,sk-ecdsa-sha2-nistp256@openssh.com,ssh-ed25519,ecdsa-sha2-nistp521,ecdsa-sha2-nistp384,ecdsa-sha2-nistp256,rsa-sha2-512,rsa-sha2-256,ssh-rsa>\r\n",
            "debug1: SSH2_MSG_SERVICE_ACCEPT received\r\n",
            "debug1: Authentications that can continue: publickey\r\n",
            "debug1: Next authentication method: publickey\r\n",
            "debug1: Offering public key: /root/.ssh/id_ed25519 ED25519 SHA256:5L5KIiE1OBGX+8pPcbRUETMw3xeqHUR6ritAvf+U+hY explicit agent\r\n",
            "debug1: Server accepts key: /root/.ssh/id_ed25519 ED25519 SHA256:5L5KIiE1OBGX+8pPcbRUETMw3xeqHUR6ritAvf+U+hY explicit agent\r\n",
            "Authenticated to github.com ([140.82.113.3]:22) using \"publickey\".\r\n",
            "debug1: channel 0: new [client-session]\r\n",
            "debug1: Entering interactive session.\r\n",
            "debug1: pledge: filesystem\r\n",
            "debug1: client_input_global_request: rtype hostkeys-00@openssh.com want_reply 0\r\n",
            "debug1: client_input_hostkeys: searching /root/.ssh/known_hosts for github.com / (none)\r\n",
            "debug1: client_input_hostkeys: searching /root/.ssh/known_hosts2 for github.com / (none)\r\n",
            "debug1: client_input_hostkeys: hostkeys file /root/.ssh/known_hosts2 does not exist\r\n",
            "debug1: client_input_hostkeys: no new or deprecated keys from server\r\n",
            "debug1: Sending environment.\r\n",
            "debug1: channel 0: setting env LANG = \"en_US.UTF-8\"\r\n",
            "debug1: channel 0: setting env LC_ALL = \"en_US.UTF-8\"\r\n",
            "debug1: client_input_channel_req: channel 0 rtype exit-status reply 0\r\n",
            "Hi JH083! You've successfully authenticated, but GitHub does not provide shell access.\n",
            "debug1: channel 0: free: client-session, nchannels 1\r\n",
            "Transferred: sent 2260, received 2592 bytes, in 0.1 seconds\r\n",
            "Bytes per second: sent 16718.8, received 19174.8\r\n",
            "debug1: Exit status 1\r\n"
          ]
        }
      ]
    },
    {
      "cell_type": "code",
      "source": [
        "%%bash\n",
        "cd /content/16831-F25-HW\n",
        "git fetch origin\n",
        "git checkout master\n",
        "git status          # ensure no unstaged changes\n",
        "\n",
        "# replay your local commit on top of origin/master\n",
        "git rebase origin/master\n",
        "# (if conflicts: edit files -> git add <fixed files> -> git rebase --continue)\n",
        "\n",
        "# after rebase, push (may need force-with-lease because history changed)\n",
        "git push -u origin master --force-with-lease"
      ],
      "metadata": {
        "colab": {
          "base_uri": "https://localhost:8080/",
          "height": 554
        },
        "id": "iXxM6dGE8z3T",
        "outputId": "666065fa-2924-489f-a158-2ef06512960a"
      },
      "execution_count": 65,
      "outputs": [
        {
          "output_type": "stream",
          "name": "stdout",
          "text": [
            "Your branch is up to date with 'origin/master'.\n",
            "On branch master\n",
            "Your branch is up to date with 'origin/master'.\n",
            "\n",
            "nothing to commit, working tree clean\n",
            "Current branch master is up to date.\n"
          ]
        },
        {
          "output_type": "stream",
          "name": "stderr",
          "text": [
            "Already on 'master'\n",
            "fatal: could not read Username for 'https://github.com': No such device or address\n"
          ]
        },
        {
          "output_type": "error",
          "ename": "CalledProcessError",
          "evalue": "Command 'b'cd /content/16831-F25-HW\\ngit fetch origin\\ngit checkout master\\ngit status          # ensure no unstaged changes\\n\\n# replay your local commit on top of origin/master\\ngit rebase origin/master\\n# (if conflicts: edit files -> git add <fixed files> -> git rebase --continue)\\n\\n# after rebase, push (may need force-with-lease because history changed)\\ngit push -u origin master --force-with-lease\\n'' returned non-zero exit status 128.",
          "traceback": [
            "\u001b[0;31m---------------------------------------------------------------------------\u001b[0m",
            "\u001b[0;31mCalledProcessError\u001b[0m                        Traceback (most recent call last)",
            "\u001b[0;32m/tmp/ipython-input-838964740.py\u001b[0m in \u001b[0;36m<cell line: 0>\u001b[0;34m()\u001b[0m\n\u001b[0;32m----> 1\u001b[0;31m \u001b[0mget_ipython\u001b[0m\u001b[0;34m(\u001b[0m\u001b[0;34m)\u001b[0m\u001b[0;34m.\u001b[0m\u001b[0mrun_cell_magic\u001b[0m\u001b[0;34m(\u001b[0m\u001b[0;34m'bash'\u001b[0m\u001b[0;34m,\u001b[0m \u001b[0;34m''\u001b[0m\u001b[0;34m,\u001b[0m \u001b[0;34m'cd /content/16831-F25-HW\\ngit fetch origin\\ngit checkout master\\ngit status          # ensure no unstaged changes\\n\\n# replay your local commit on top of origin/master\\ngit rebase origin/master\\n# (if conflicts: edit files -> git add <fixed files> -> git rebase --continue)\\n\\n# after rebase, push (may need force-with-lease because history changed)\\ngit push -u origin master --force-with-lease\\n'\u001b[0m\u001b[0;34m)\u001b[0m\u001b[0;34m\u001b[0m\u001b[0;34m\u001b[0m\u001b[0m\n\u001b[0m",
            "\u001b[0;32m/usr/local/lib/python3.12/dist-packages/google/colab/_shell.py\u001b[0m in \u001b[0;36mrun_cell_magic\u001b[0;34m(self, magic_name, line, cell)\u001b[0m\n\u001b[1;32m    274\u001b[0m     \u001b[0;32mif\u001b[0m \u001b[0mline\u001b[0m \u001b[0;32mand\u001b[0m \u001b[0;32mnot\u001b[0m \u001b[0mcell\u001b[0m\u001b[0;34m:\u001b[0m\u001b[0;34m\u001b[0m\u001b[0;34m\u001b[0m\u001b[0m\n\u001b[1;32m    275\u001b[0m       \u001b[0mcell\u001b[0m \u001b[0;34m=\u001b[0m \u001b[0;34m' '\u001b[0m\u001b[0;34m\u001b[0m\u001b[0;34m\u001b[0m\u001b[0m\n\u001b[0;32m--> 276\u001b[0;31m     \u001b[0;32mreturn\u001b[0m \u001b[0msuper\u001b[0m\u001b[0;34m(\u001b[0m\u001b[0;34m)\u001b[0m\u001b[0;34m.\u001b[0m\u001b[0mrun_cell_magic\u001b[0m\u001b[0;34m(\u001b[0m\u001b[0mmagic_name\u001b[0m\u001b[0;34m,\u001b[0m \u001b[0mline\u001b[0m\u001b[0;34m,\u001b[0m \u001b[0mcell\u001b[0m\u001b[0;34m)\u001b[0m\u001b[0;34m\u001b[0m\u001b[0;34m\u001b[0m\u001b[0m\n\u001b[0m\u001b[1;32m    277\u001b[0m \u001b[0;34m\u001b[0m\u001b[0m\n\u001b[1;32m    278\u001b[0m \u001b[0;34m\u001b[0m\u001b[0m\n",
            "\u001b[0;32m/usr/local/lib/python3.12/dist-packages/IPython/core/interactiveshell.py\u001b[0m in \u001b[0;36mrun_cell_magic\u001b[0;34m(self, magic_name, line, cell)\u001b[0m\n\u001b[1;32m   2471\u001b[0m             \u001b[0;32mwith\u001b[0m \u001b[0mself\u001b[0m\u001b[0;34m.\u001b[0m\u001b[0mbuiltin_trap\u001b[0m\u001b[0;34m:\u001b[0m\u001b[0;34m\u001b[0m\u001b[0;34m\u001b[0m\u001b[0m\n\u001b[1;32m   2472\u001b[0m                 \u001b[0margs\u001b[0m \u001b[0;34m=\u001b[0m \u001b[0;34m(\u001b[0m\u001b[0mmagic_arg_s\u001b[0m\u001b[0;34m,\u001b[0m \u001b[0mcell\u001b[0m\u001b[0;34m)\u001b[0m\u001b[0;34m\u001b[0m\u001b[0;34m\u001b[0m\u001b[0m\n\u001b[0;32m-> 2473\u001b[0;31m                 \u001b[0mresult\u001b[0m \u001b[0;34m=\u001b[0m \u001b[0mfn\u001b[0m\u001b[0;34m(\u001b[0m\u001b[0;34m*\u001b[0m\u001b[0margs\u001b[0m\u001b[0;34m,\u001b[0m \u001b[0;34m**\u001b[0m\u001b[0mkwargs\u001b[0m\u001b[0;34m)\u001b[0m\u001b[0;34m\u001b[0m\u001b[0;34m\u001b[0m\u001b[0m\n\u001b[0m\u001b[1;32m   2474\u001b[0m             \u001b[0;32mreturn\u001b[0m \u001b[0mresult\u001b[0m\u001b[0;34m\u001b[0m\u001b[0;34m\u001b[0m\u001b[0m\n\u001b[1;32m   2475\u001b[0m \u001b[0;34m\u001b[0m\u001b[0m\n",
            "\u001b[0;32m/usr/local/lib/python3.12/dist-packages/IPython/core/magics/script.py\u001b[0m in \u001b[0;36mnamed_script_magic\u001b[0;34m(line, cell)\u001b[0m\n\u001b[1;32m    140\u001b[0m             \u001b[0;32melse\u001b[0m\u001b[0;34m:\u001b[0m\u001b[0;34m\u001b[0m\u001b[0;34m\u001b[0m\u001b[0m\n\u001b[1;32m    141\u001b[0m                 \u001b[0mline\u001b[0m \u001b[0;34m=\u001b[0m \u001b[0mscript\u001b[0m\u001b[0;34m\u001b[0m\u001b[0;34m\u001b[0m\u001b[0m\n\u001b[0;32m--> 142\u001b[0;31m             \u001b[0;32mreturn\u001b[0m \u001b[0mself\u001b[0m\u001b[0;34m.\u001b[0m\u001b[0mshebang\u001b[0m\u001b[0;34m(\u001b[0m\u001b[0mline\u001b[0m\u001b[0;34m,\u001b[0m \u001b[0mcell\u001b[0m\u001b[0;34m)\u001b[0m\u001b[0;34m\u001b[0m\u001b[0;34m\u001b[0m\u001b[0m\n\u001b[0m\u001b[1;32m    143\u001b[0m \u001b[0;34m\u001b[0m\u001b[0m\n\u001b[1;32m    144\u001b[0m         \u001b[0;31m# write a basic docstring:\u001b[0m\u001b[0;34m\u001b[0m\u001b[0;34m\u001b[0m\u001b[0m\n",
            "\u001b[0;32m<decorator-gen-103>\u001b[0m in \u001b[0;36mshebang\u001b[0;34m(self, line, cell)\u001b[0m\n",
            "\u001b[0;32m/usr/local/lib/python3.12/dist-packages/IPython/core/magic.py\u001b[0m in \u001b[0;36m<lambda>\u001b[0;34m(f, *a, **k)\u001b[0m\n\u001b[1;32m    185\u001b[0m     \u001b[0;31m# but it's overkill for just that one bit of state.\u001b[0m\u001b[0;34m\u001b[0m\u001b[0;34m\u001b[0m\u001b[0m\n\u001b[1;32m    186\u001b[0m     \u001b[0;32mdef\u001b[0m \u001b[0mmagic_deco\u001b[0m\u001b[0;34m(\u001b[0m\u001b[0marg\u001b[0m\u001b[0;34m)\u001b[0m\u001b[0;34m:\u001b[0m\u001b[0;34m\u001b[0m\u001b[0;34m\u001b[0m\u001b[0m\n\u001b[0;32m--> 187\u001b[0;31m         \u001b[0mcall\u001b[0m \u001b[0;34m=\u001b[0m \u001b[0;32mlambda\u001b[0m \u001b[0mf\u001b[0m\u001b[0;34m,\u001b[0m \u001b[0;34m*\u001b[0m\u001b[0ma\u001b[0m\u001b[0;34m,\u001b[0m \u001b[0;34m**\u001b[0m\u001b[0mk\u001b[0m\u001b[0;34m:\u001b[0m \u001b[0mf\u001b[0m\u001b[0;34m(\u001b[0m\u001b[0;34m*\u001b[0m\u001b[0ma\u001b[0m\u001b[0;34m,\u001b[0m \u001b[0;34m**\u001b[0m\u001b[0mk\u001b[0m\u001b[0;34m)\u001b[0m\u001b[0;34m\u001b[0m\u001b[0;34m\u001b[0m\u001b[0m\n\u001b[0m\u001b[1;32m    188\u001b[0m \u001b[0;34m\u001b[0m\u001b[0m\n\u001b[1;32m    189\u001b[0m         \u001b[0;32mif\u001b[0m \u001b[0mcallable\u001b[0m\u001b[0;34m(\u001b[0m\u001b[0marg\u001b[0m\u001b[0;34m)\u001b[0m\u001b[0;34m:\u001b[0m\u001b[0;34m\u001b[0m\u001b[0;34m\u001b[0m\u001b[0m\n",
            "\u001b[0;32m/usr/local/lib/python3.12/dist-packages/IPython/core/magics/script.py\u001b[0m in \u001b[0;36mshebang\u001b[0;34m(self, line, cell)\u001b[0m\n\u001b[1;32m    243\u001b[0m             \u001b[0msys\u001b[0m\u001b[0;34m.\u001b[0m\u001b[0mstderr\u001b[0m\u001b[0;34m.\u001b[0m\u001b[0mflush\u001b[0m\u001b[0;34m(\u001b[0m\u001b[0;34m)\u001b[0m\u001b[0;34m\u001b[0m\u001b[0;34m\u001b[0m\u001b[0m\n\u001b[1;32m    244\u001b[0m         \u001b[0;32mif\u001b[0m \u001b[0margs\u001b[0m\u001b[0;34m.\u001b[0m\u001b[0mraise_error\u001b[0m \u001b[0;32mand\u001b[0m \u001b[0mp\u001b[0m\u001b[0;34m.\u001b[0m\u001b[0mreturncode\u001b[0m\u001b[0;34m!=\u001b[0m\u001b[0;36m0\u001b[0m\u001b[0;34m:\u001b[0m\u001b[0;34m\u001b[0m\u001b[0;34m\u001b[0m\u001b[0m\n\u001b[0;32m--> 245\u001b[0;31m             \u001b[0;32mraise\u001b[0m \u001b[0mCalledProcessError\u001b[0m\u001b[0;34m(\u001b[0m\u001b[0mp\u001b[0m\u001b[0;34m.\u001b[0m\u001b[0mreturncode\u001b[0m\u001b[0;34m,\u001b[0m \u001b[0mcell\u001b[0m\u001b[0;34m,\u001b[0m \u001b[0moutput\u001b[0m\u001b[0;34m=\u001b[0m\u001b[0mout\u001b[0m\u001b[0;34m,\u001b[0m \u001b[0mstderr\u001b[0m\u001b[0;34m=\u001b[0m\u001b[0merr\u001b[0m\u001b[0;34m)\u001b[0m\u001b[0;34m\u001b[0m\u001b[0;34m\u001b[0m\u001b[0m\n\u001b[0m\u001b[1;32m    246\u001b[0m \u001b[0;34m\u001b[0m\u001b[0m\n\u001b[1;32m    247\u001b[0m     \u001b[0;32mdef\u001b[0m \u001b[0m_run_script\u001b[0m\u001b[0;34m(\u001b[0m\u001b[0mself\u001b[0m\u001b[0;34m,\u001b[0m \u001b[0mp\u001b[0m\u001b[0;34m,\u001b[0m \u001b[0mcell\u001b[0m\u001b[0;34m,\u001b[0m \u001b[0mto_close\u001b[0m\u001b[0;34m)\u001b[0m\u001b[0;34m:\u001b[0m\u001b[0;34m\u001b[0m\u001b[0;34m\u001b[0m\u001b[0m\n",
            "\u001b[0;31mCalledProcessError\u001b[0m: Command 'b'cd /content/16831-F25-HW\\ngit fetch origin\\ngit checkout master\\ngit status          # ensure no unstaged changes\\n\\n# replay your local commit on top of origin/master\\ngit rebase origin/master\\n# (if conflicts: edit files -> git add <fixed files> -> git rebase --continue)\\n\\n# after rebase, push (may need force-with-lease because history changed)\\ngit push -u origin master --force-with-lease\\n'' returned non-zero exit status 128."
          ]
        }
      ]
    },
    {
      "cell_type": "code",
      "source": [
        "!git add ."
      ],
      "metadata": {
        "id": "NpIqsp8Z9EKJ"
      },
      "execution_count": 104,
      "outputs": []
    },
    {
      "cell_type": "code",
      "source": [
        "!git commit -m \"added image\""
      ],
      "metadata": {
        "colab": {
          "base_uri": "https://localhost:8080/"
        },
        "id": "iJuPN5fMFFDE",
        "outputId": "0488c7da-3026-4c94-990e-248bf1452254"
      },
      "execution_count": 105,
      "outputs": [
        {
          "output_type": "stream",
          "name": "stdout",
          "text": [
            "[master dcb1b98] added image\n",
            " 2 files changed, 0 insertions(+), 0 deletions(-)\n",
            " create mode 100644 hw1/data/fig_p4_ant_train_steps.png\n"
          ]
        }
      ]
    },
    {
      "cell_type": "code",
      "source": [
        "!git push"
      ],
      "metadata": {
        "colab": {
          "base_uri": "https://localhost:8080/"
        },
        "id": "pX1s7FxNFHDB",
        "outputId": "fcc1206b-bb3d-4db5-d3d7-043c3240b407"
      },
      "execution_count": 26,
      "outputs": [
        {
          "output_type": "stream",
          "name": "stdout",
          "text": [
            "fatal: could not read Username for 'https://github.com': No such device or address\n"
          ]
        }
      ]
    },
    {
      "cell_type": "code",
      "source": [],
      "metadata": {
        "id": "xKfKqY0KFTQb"
      },
      "execution_count": null,
      "outputs": []
    }
  ]
}